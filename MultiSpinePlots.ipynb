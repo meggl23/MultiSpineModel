{
 "cells": [
  {
   "cell_type": "code",
   "execution_count": null,
   "id": "cc1696dd",
   "metadata": {
    "ExecuteTime": {
     "end_time": "2023-10-16T10:32:36.845885Z",
     "start_time": "2023-10-16T10:32:36.036238Z"
    }
   },
   "outputs": [],
   "source": [
    "import numpy as np\n",
    "\n",
    "import scipy as sp\n",
    "import scipy.stats as stats\n",
    "from scipy.stats import linregress,t\n",
    "from scipy.optimize import curve_fit\n",
    "\n",
    "import matplotlib.pyplot as plt\n",
    "from matplotlib import rc\n",
    "plt.rc('text', usetex=True)\n",
    "font = {'family' : 'serif',\n",
    "        'size'   : 14}\n",
    "plt.rc('font', **font)\n",
    "plt.rc('ytick', labelsize=32) \n",
    "plt.rc('xtick', labelsize=32)\n",
    "plt.rc('text.latex', preamble=r'\\usepackage{color}')\n",
    "\n",
    "import json\n",
    "\n",
    "import os\n",
    "import math\n",
    "from tqdm import tqdm"
   ]
  },
  {
   "cell_type": "code",
   "execution_count": null,
   "id": "fc16fc8c",
   "metadata": {
    "ExecuteTime": {
     "end_time": "2023-10-16T10:32:36.851646Z",
     "start_time": "2023-10-16T10:32:36.847357Z"
    }
   },
   "outputs": [],
   "source": [
    "# Plotting color\n",
    "Sham = True\n",
    "ColLS = True\n",
    "C = np.array([[166,206,227],\n",
    "[31,120,180],\n",
    "[178,223,138],\n",
    "[51,160,44],\n",
    "[251,154,153],\n",
    "[227,26,28],\n",
    "[253,191,111],\n",
    "[255,127,0],\n",
    "[202,178,214],\n",
    "[106,61,154],\n",
    "[255,255,153],\n",
    "            [169,169,169],\n",
    "             [128,128,128]])\n",
    "C = C/255.\n",
    "ColorDict = {'mean':0,'median':1,'Control': 1,'CamKII':3,'Calcineurin':7,'CHX':5,'Anisomycin':9,'Sham':-1,'CamKII_alt':3,'CHX_alt':5,}\n",
    "\n",
    "labelDict = {'CamKII':'AIP','Calcineurin':'FK506','Control':'Control','Sham':'Sham','CHX':'CHX','Anisomycin':'Anisomycin'}\n",
    "\n",
    "spineplot = np.arange(1,16,0.5)\n",
    "lw    = 4\n",
    "fs    = 20\n",
    "\n",
    "Fulltimes = [-15,-10,-5,2,10,20,30,40]\n",
    "\n",
    "tmin    =  0\n",
    "tmax    =  40\n",
    "tpts    =  tmax*1000+1\n",
    "dt     = (tmax-tmin)/tpts\n",
    "tvec  = np.linspace(tmin,tmax,tpts)\n",
    "\n",
    "DatDir = './'"
   ]
  },
  {
   "cell_type": "code",
   "execution_count": null,
   "id": "c66a2e0e",
   "metadata": {
    "ExecuteTime": {
     "end_time": "2023-10-16T10:32:36.874459Z",
     "start_time": "2023-10-16T10:32:36.852755Z"
    }
   },
   "outputs": [],
   "source": [
    "def PreSortData(RealDat,Flag):\n",
    "    \n",
    "    Pot = []\n",
    "    for i,d in enumerate(RealDat):\n",
    "        if(abs((d[3]-d[:3].mean())/d[:3].std())>1.96 and d[3]-d[:3].mean()>0):\n",
    "            Pot.append(Flag)\n",
    "        else:\n",
    "            Pot.append(not Flag)\n",
    "    return np.delete(RealDat,Pot,axis=0)\n",
    "\n",
    "def PreSortData2(RealDat,Flag):\n",
    "    \n",
    "    Pot = []\n",
    "    for i,d in enumerate(RealDat):\n",
    "        if(abs((d[3]-d[:3].mean())/d[:3].std())>1.96 and d[3]-d[:3].mean()>0):\n",
    "            Pot.append(Flag)\n",
    "        else:\n",
    "            Pot.append(not Flag)\n",
    "    return np.delete(RealDat,Pot,axis=0),Pot\n",
    "\n",
    "def LoadOneSpine(Dir,Filter=True):\n",
    "\n",
    "    Syn_a_arr = []\n",
    "    for d in tqdm(os.listdir(Dir)):\n",
    "        print(d)\n",
    "        try:\n",
    "            with open(Dir+d+'/Spine/Synapse_l.json', 'r') as fp: Syn_a_arr.append(json.load(fp))\n",
    "        except Exception as e:\n",
    "            print(e)\n",
    "            \n",
    "    dists = []\n",
    "    means = []\n",
    "    lmeans = []\n",
    "    for Syns in Syn_a_arr:\n",
    "        d = []\n",
    "        m = []\n",
    "        lm = []\n",
    "        for S in Syns:\n",
    "            d.append(S[\"distance\"])\n",
    "            m.append(S[\"mean\"])\n",
    "            lm.append(S[\"local_bg\"])\n",
    "        dists.append(d)\n",
    "        means.append(m)\n",
    "        lmeans.append(lm)\n",
    "    dists = np.array(dists)\n",
    "    means = np.array(means)\n",
    "    lmeans = np.array(lmeans)\n",
    "    means = np.squeeze(means)\n",
    "    lmeans = np.squeeze(lmeans)\n",
    "    means = means-lmeans\n",
    "    \n",
    "    if(Filter):\n",
    "        meansS = PreSortData(means,False)\n",
    "    else:\n",
    "        meansS = means\n",
    "    meansS = (meansS.T/(meansS[:,:3].mean(axis=-1)))\n",
    "    \n",
    "    return meansS\n",
    "\n",
    "def LoadSevenSpine(Dir,Flag=True):\n",
    "    Syn_a_arr = []\n",
    "    for d in tqdm(os.listdir(Dir)):\n",
    "        print(d)\n",
    "        try:\n",
    "            with open(Dir+d+'/Spine/Synapse_l.json', 'r') as fp: Syn_a_arr.append(json.load(fp))\n",
    "        except Exception as e:\n",
    "            print(e)\n",
    "            \n",
    "    dists = []\n",
    "    means = []\n",
    "    lmeans = []\n",
    "    for Syns in Syn_a_arr:\n",
    "        d = []\n",
    "        m = []\n",
    "        lm = []\n",
    "        for S in Syns:\n",
    "            d.append(S[\"distance\"])\n",
    "            m.append(S[\"mean\"])\n",
    "            lm.append(S[\"local_bg\"])\n",
    "        dists.append(d)\n",
    "        means.append(np.array(m)-np.array(lm))\n",
    "\n",
    "    middle = [np.array(m)[np.argsort(d)[3]] for m,d in zip(means,dists)]\n",
    "    middleS = np.vstack(middle).squeeze()\n",
    "    \n",
    "    extreme = [np.array(m)[np.argsort(d)[[0,-1]]] for m,d in zip(means,dists)]\n",
    "    extremeS = np.vstack(extreme).squeeze()\n",
    "    if(Flag):\n",
    "        middleS = PreSortData(middleS,False)\n",
    "        extremeS = PreSortData(extremeS,False)\n",
    "    middleS = (middleS.T/(middleS[:,:3].mean(axis=-1)))\n",
    "    extremeS = (extremeS.T/(extremeS[:,:3].mean(axis=-1)))\n",
    "\n",
    "    return [middleS,extremeS],[np.array(d)-min(d) for d in dists]\n",
    "\n",
    "def LoadSevenSpine2(Dir,Flag=True):\n",
    "    Syn_a_arr = []\n",
    "    for d in tqdm(os.listdir(Dir)):\n",
    "        print(d)\n",
    "        try:\n",
    "            with open(Dir+d+'/Spine/Synapse_l.json', 'r') as fp: Syn_a_arr.append(json.load(fp))\n",
    "        except Exception as e:\n",
    "            print(e)\n",
    "            \n",
    "    dists = []\n",
    "    means = []\n",
    "    lmeans = []\n",
    "    for Syns in Syn_a_arr:\n",
    "        d = []\n",
    "        m = []\n",
    "        lm = []\n",
    "        for S in Syns:\n",
    "            d.append(S[\"distance\"])\n",
    "            m.append(S[\"mean\"])\n",
    "            lm.append(S[\"local_bg\"])\n",
    "        dists.append(d)\n",
    "        means.append(np.array(m)-np.array(lm))\n",
    "\n",
    "    middle = [np.array(m)[np.argsort(d)[[2,3,4]]] for m,d in zip(means,dists)]\n",
    "    middleS = np.vstack(middle).squeeze()\n",
    "    \n",
    "    extreme = [np.array(m)[np.argsort(d)[[0,1,-2,-1]]] for m,d in zip(means,dists)]\n",
    "    extremeS = np.vstack(extreme).squeeze()\n",
    "    if(Flag):\n",
    "        middleS = PreSortData(middleS,False)\n",
    "        extremeS = PreSortData(extremeS,False)\n",
    "    middleS = (middleS.T/(middleS[:,:3].mean(axis=-1)))\n",
    "    extremeS = (extremeS.T/(extremeS[:,:3].mean(axis=-1)))\n",
    "\n",
    "    return [middleS,extremeS],[np.array(d)-min(d) for d in dists]\n",
    "\n",
    "def LoadSevenSpine3(Dir,Flag=True):\n",
    "    Syn_a_arr = []\n",
    "    for d in tqdm(os.listdir(Dir)):\n",
    "        print(d)\n",
    "        try:\n",
    "            with open(Dir+d+'/Spine/Synapse_l.json', 'r') as fp: Syn_a_arr.append(json.load(fp))\n",
    "        except Exception as e:\n",
    "            print(e)\n",
    "            \n",
    "    dists = []\n",
    "    means = []\n",
    "    lmeans = []\n",
    "    for Syns in Syn_a_arr:\n",
    "        d = []\n",
    "        m = []\n",
    "        lm = []\n",
    "        for S in Syns:\n",
    "            d.append(S[\"distance\"])\n",
    "            m.append(S[\"mean\"])\n",
    "            lm.append(S[\"local_bg\"])\n",
    "        dists.append(d)\n",
    "        means.append(np.array(m)-np.array(lm))\n",
    "    means = np.vstack(means).squeeze()\n",
    "    meansS = (means.T/(means[:,:3].mean(axis=-1))).T\n",
    "    if(Flag):\n",
    "        meansS,p = PreSortData2(meansS,False)\n",
    "    \n",
    "    return np.array(meansS),[np.array(d) for d in dists],p\n",
    "\n",
    "\n",
    "def LoadThreeSpine(Dir,Flag):\n",
    "    Syn_a_arr = []\n",
    "    for d in tqdm(os.listdir(Dir)):\n",
    "        try:\n",
    "            with open(Dir+d+'/Spine/Synapse_l.json', 'r') as fp: Syn_a_arr.append(json.load(fp))\n",
    "        except Exception as e:\n",
    "            print(e)\n",
    "\n",
    "    dists = []\n",
    "    means = []\n",
    "    lmeans = []\n",
    "    for Syns in Syn_a_arr:\n",
    "        d = []\n",
    "        m = []\n",
    "        lm = []\n",
    "        for S in Syns:\n",
    "            d.append(S[\"distance\"])\n",
    "            m.append(S[\"mean\"])\n",
    "            lm.append(S[\"local_bg\"])\n",
    "        dists.append(d)\n",
    "        means.append(m)\n",
    "        lmeans.append(lm)\n",
    "    dists = np.array(dists)\n",
    "    means = np.array(means)\n",
    "    lmeans = np.array(lmeans)\n",
    "\n",
    "    means = np.squeeze(means)\n",
    "    lmeans = np.squeeze(lmeans)\n",
    "    means = means-lmeans\n",
    "    \n",
    "    middle = [means[i,np.argsort(dists,axis=1)[i,1]] for i in range(7)]\n",
    "    lower = [means[i,np.argsort(dists,axis=1)[i,0]] for i in range(7)]\n",
    "    upper = [means[i,np.argsort(dists,axis=1)[i,2]] for i in range(7)]\n",
    "    middleS = np.array(middle)\n",
    "    extremeS = np.vstack([lower,upper])\n",
    "    if(Flag):\n",
    "        middleS = PreSortData(middleS,False)\n",
    "        extremeS = PreSortData(extremeS,False)\n",
    "    middleS = (middleS.T/(middleS[:,:3].mean(axis=-1)))\n",
    "\n",
    "    extremeS = (extremeS.T/(extremeS[:,:3].mean(axis=-1)))\n",
    "\n",
    "    return [middleS,extremeS],(dists.T-dists.min(axis=-1)).T\n",
    "\n",
    "def Load15Spine(Dir,Flag=True):\n",
    "    Syn_a_arr = []\n",
    "    for d in tqdm(os.listdir(Dir)):\n",
    "        print(d)\n",
    "        try:\n",
    "            with open(Dir+d+'/Spine/Synapse_l.json', 'r') as fp: Syn_a_arr.append(json.load(fp))\n",
    "        except Exception as e:\n",
    "            print(e)\n",
    "            \n",
    "    dists = []\n",
    "    means = []\n",
    "    lmeans = []\n",
    "    for Syns in Syn_a_arr:\n",
    "        d = []\n",
    "        m = []\n",
    "        lm = []\n",
    "        for S in Syns:\n",
    "            d.append(S[\"distance\"])\n",
    "            m.append(S[\"mean\"])\n",
    "            lm.append(S[\"local_bg\"])\n",
    "        dists.append(d)\n",
    "        means.append(np.array(m)-np.array(lm))\n",
    "\n",
    "    middle = [np.array(m)[np.argsort(d)[[6,7,8]]] for m,d in zip(means,dists)]\n",
    "    middleS = np.vstack(middle).squeeze()\n",
    "\n",
    "    extreme = [np.array(m)[np.argsort(d)[[0,1,2,-3,-2,-1]]] for m,d in zip(means,dists)]\n",
    "    extremeS = np.vstack(extreme).squeeze()\n",
    "    \n",
    "    if(Flag):\n",
    "        middleS = PreSortData(middleS,False)\n",
    "        extremeS = PreSortData(extremeS,False)\n",
    "    \n",
    "    middleS = (middleS.T/(middleS[:,:3].mean(axis=-1)))\n",
    "    extremeS = (extremeS.T/(extremeS[:,:3].mean(axis=-1)))\n",
    "\n",
    "    return [middleS,extremeS],[np.array(d)-min(d) for d in dists]\n",
    "\n",
    "def func(x, a, b):\n",
    "    return (a/(x))+b"
   ]
  },
  {
   "cell_type": "code",
   "execution_count": null,
   "id": "8c9d15a9",
   "metadata": {
    "ExecuteTime": {
     "end_time": "2023-10-16T10:32:36.886978Z",
     "start_time": "2023-10-16T10:32:36.876351Z"
    }
   },
   "outputs": [],
   "source": [
    "class SpatialModel():\n",
    "    def __init__(self,CParams,P0Params,gamma,zetaS,FParams,C0Params,tMax,xMax,stims):\n",
    "\n",
    "        self.a1 = CParams[0]\n",
    "        self.a2 = CParams[1]\n",
    "\n",
    "        self.b1 = P0Params[0]\n",
    "        self.b2 = P0Params[1]\n",
    "        self.rho = P0Params[2]\n",
    "\n",
    "        self.gamma = gamma\n",
    "\n",
    "        self.zeta1 = zetaS[0]\n",
    "        self.zeta2 = zetaS[1]\n",
    "        self.nu   = FParams[0]\n",
    "        self.phi  = FParams[1]\n",
    "\n",
    "        self.lam = C0Params[0]\n",
    "        self.mu  = C0Params[1]\n",
    "        self.C_s = C0Params[2]\n",
    "        self.C_d = C0Params[3]\n",
    "\n",
    "\n",
    "        self.dx = 0.01\n",
    "        self.x = np.arange(-xMax,xMax,self.dx)\n",
    "\n",
    "\n",
    "        self.dt = 0.0025#min(0.001,self.dx*self.dx/(4*max(self.a1,self.b1)))\n",
    "        self.tMax = tMax\n",
    "        self.tvec = np.arange(0,tMax+self.dt,self.dt)\n",
    "\n",
    "        Cd = self.initC(stims)\n",
    "        Pd = 1-Cd\n",
    "        self.C  = np.zeros_like(self.x) \n",
    "        PMod  = np.zeros_like(self.x) \n",
    "        \n",
    "        self.P  = np.zeros_like(self.x)\n",
    "        self.P0 = np.ones_like(self.x)\n",
    "        \n",
    "        self.S  = np.ones_like(self.x)\n",
    "\n",
    "        for xs,c in zip(stims[0],Cd):\n",
    "            self.C += (self.C_s+c)*np.exp(-SpineWidth*(self.x-xs)**2)\n",
    "        for xs,c in zip(stims[0],Pd):\n",
    "            PMod += (c)*np.exp(-SpineWidth*(self.x-xs)**2)\n",
    "        \n",
    "        self.P0 = self.rho*(self.P0-PMod)\n",
    "\n",
    "        self.C_tot  = []\n",
    "        self.P_tot  = []\n",
    "        self.S_tot  = []\n",
    "        self.P0_tot = []\n",
    "\n",
    "    def CRHS(self):\n",
    "    \n",
    "        return self.a1*self.diff2(self.C)-self.a2*self.C\n",
    "\n",
    "    def P0RHS(self):\n",
    "        \n",
    "        return self.b1*self.diff2(self.P0)-self.b2*self.C*self.P0\n",
    "\n",
    "    def PRHS(self):\n",
    "        \n",
    "        return  self.b1*self.diff2(self.P) + self.b2*self.C*self.P0 - self.gamma*self.P\n",
    "\n",
    "    def SRHS(self):\n",
    "        return  self.zeta1*self.C + self.P*self.zeta2*self.F(self.S)\n",
    "\n",
    "    def F(self,K):\n",
    "        return -np.tanh(self.phi*(K-self.nu))\n",
    "        \n",
    "    def diff2(self,y):\n",
    "        \n",
    "        d2C = np.zeros_like(y)\n",
    "        \n",
    "        d2C[1:-1] = (np.roll(y,1)[1:-1]+np.roll(y,-1)[1:-1]-2*y[1:-1])/(self.dx*self.dx)\n",
    "        \n",
    "        return d2C\n",
    "\n",
    "    def initC(self,stims,lam=1):\n",
    "        x_stims = stims[0]\n",
    "        t_stims = stims[1]\n",
    "        C_shared     = np.ones_like(x_stims).astype(np.float64)\n",
    "        n_stims = len(x_stims)\n",
    "        if(n_stims>1):\n",
    "            for i in range(n_stims):            \n",
    "                mod = 0\n",
    "                for j in range(n_stims):\n",
    "                    if(i==j):\n",
    "                        pass\n",
    "                    else:\n",
    "                        mod += (abs(x_stims[i]-x_stims[j])/(1+abs(x_stims[i]-x_stims[j])))**lam\n",
    "                C_shared[i] = C_shared[i]*((mod+1)/(n_stims))\n",
    "        return C_shared*self.C_d\n",
    "    \n",
    "    def Simulate(self):\n",
    "\n",
    "        for _ in np.arange(0,self.tMax+self.dt,self.dt):\n",
    "            RC   = self.CRHS()\n",
    "            RP0  = self.P0RHS()\n",
    "            RP   = self.PRHS()\n",
    "            RS   = self.SRHS()\n",
    "\n",
    "            self.C  = self.C  + self.dt*RC\n",
    "            self.P0 = self.P0 + self.dt*RP0\n",
    "            self.P  = self.P  + self.dt*RP\n",
    "            self.S  = self.S  + self.dt*RS\n",
    "\n",
    "            self.C_tot.append(self.C)\n",
    "            self.P0_tot.append(self.P0)\n",
    "            self.P_tot.append(self.P)\n",
    "            self.S_tot.append(self.S)\n",
    "\n",
    "        self.C_tot  = np.array(self.C_tot)\n",
    "        self.P0_tot = np.array(self.P0_tot)\n",
    "        self.P_tot  = np.array(self.P_tot)\n",
    "        self.S_tot  = np.array(self.S_tot)\n"
   ]
  },
  {
   "cell_type": "code",
   "execution_count": null,
   "id": "b52823c8",
   "metadata": {
    "ExecuteTime": {
     "end_time": "2023-10-16T10:32:36.897694Z",
     "start_time": "2023-10-16T10:32:36.888218Z"
    }
   },
   "outputs": [],
   "source": [
    "def initC(stims,C_d,lam=1):\n",
    "    x_stims = stims[0]\n",
    "    t_stims = stims[1]\n",
    "    C_shared     = np.ones_like(x_stims).astype(np.float64)\n",
    "    n_stims = len(x_stims)\n",
    "    if(n_stims>1):\n",
    "        for i in range(n_stims):            \n",
    "            mod = 0\n",
    "            for j in range(n_stims):\n",
    "                if(i==j):\n",
    "                    pass\n",
    "                else:\n",
    "                    mod += (abs(x_stims[i]-x_stims[j])/(1+abs(x_stims[i]-x_stims[j])))\n",
    "            C_shared[i] = C_shared[i]*((mod+1)/(n_stims))\n",
    "    return C_shared*C_d\n",
    "\n",
    "def RunSimul2(cPar,p0Par,pPar,zeta,phi,nu,stims):\n",
    "    dx = 0.01\n",
    "    x = np.arange(-2,2,dx)\n",
    "    rho = 0.5\n",
    "\n",
    "    C1  = np.zeros_like(x) \n",
    "    C  = np.zeros_like(x) \n",
    "    PMod  = np.zeros_like(x) \n",
    "\n",
    "    Cd = initC(stims,2)\n",
    "    Pd = 1-Cd\n",
    "    for xs,c in zip(stims[0],Cd):\n",
    "        C1 += (Cs)*np.exp(-1000*(x-xs)**2)\n",
    "        C += (Cs+c)*np.exp(-1000*(x-xs)**2)\n",
    "        \n",
    "            \n",
    "\n",
    "    P0 = np.ones_like(x)\n",
    "\n",
    "    for xs,c in zip(stims[0],Pd):\n",
    "        PMod += (c)*np.exp(-1000*(x-xs)**2)\n",
    "\n",
    "    P0 = rho*(P0-PMod)\n",
    "\n",
    "    dt = dx*dx/(4*max(pPar[0],cPar[0]))\n",
    "    Tmax = 40\n",
    "    tvec = np.arange(0,Tmax+dt,dt)\n",
    "\n",
    "    P = np.zeros_like(x)\n",
    "    S = np.ones_like(x)\n",
    "\n",
    "    C_tot  = []\n",
    "    P0_tot = []\n",
    "    P_tot  = []\n",
    "    S_tot  = []\n",
    "    for t in tqdm(np.arange(0,Tmax+dt,dt)):\n",
    "        RC = CRHS(C,dx,cPar)\n",
    "        RP0 = P0RHS(P0,C,dx,p0Par)\n",
    "        RP   = PRHS(P,P0,C,dx,pPar)\n",
    "        RS  = SRHS(C,direc(S,nu,phi)*P,zeta)\n",
    "        C  = C  + dt*RC\n",
    "        P0 = P0 + dt*RP0\n",
    "        P  = P  + dt*RP\n",
    "        S  = S  + dt*RS\n",
    "        C_tot.append(C)\n",
    "        P0_tot.append(P0)\n",
    "        P_tot.append(P)\n",
    "        S_tot.append(S)\n",
    "    C_tot  = np.array(C_tot)\n",
    "    P0_tot = np.array(P0_tot)\n",
    "    P_tot  = np.array(P_tot)\n",
    "    S_tot  = np.array(S_tot)\n",
    "\n",
    "    return S_tot\n",
    "\n",
    "def CRHS(C,dx,CParams):\n",
    "    \n",
    "    a1 = CParams[0]\n",
    "    a2 = CParams[1]\n",
    "    \n",
    "    return a1*diff2(C,dx)-a2*C\n",
    "\n",
    "def P0RHS(P0,C,dx,P0Params):\n",
    "    b1 = P0Params[0]\n",
    "    b2 = P0Params[1]\n",
    "    \n",
    "    return b1*diff2(P0,dx)-b2*C*P0\n",
    "\n",
    "def PRHS(P,P0,C,dx,PParams):\n",
    "    \n",
    "    c1 = PParams[0]\n",
    "    c2 = PParams[1]\n",
    "    c3 = PParams[2]\n",
    "    \n",
    "    return  c1*diff2(P,dx) - c2*P + c3*C*P0\n",
    "\n",
    "def SRHS(C,P,zeta):\n",
    "    return 2*C + P*zeta\n",
    "\n",
    "def direc(P,nu,phi):\n",
    "    return -np.tanh(phi*(P-nu))\n",
    "    \n",
    "def diff2(y,dx):\n",
    "    \n",
    "    d2C = np.zeros_like(y)\n",
    "    \n",
    "    d2C[1:-1] = (np.roll(y,1)[1:-1]+np.roll(y,-1)[1:-1]-2*y[1:-1])/(dx*dx)\n",
    "    \n",
    "    return d2C\n",
    "\n"
   ]
  },
  {
   "cell_type": "markdown",
   "id": "6303bbd5",
   "metadata": {},
   "source": [
    "# Figure 1"
   ]
  },
  {
   "cell_type": "markdown",
   "id": "92616bbf",
   "metadata": {},
   "source": [
    "## f"
   ]
  },
  {
   "cell_type": "code",
   "execution_count": null,
   "id": "e072347f",
   "metadata": {
    "ExecuteTime": {
     "end_time": "2023-10-16T10:32:37.209618Z",
     "start_time": "2023-10-16T10:32:36.898835Z"
    }
   },
   "outputs": [],
   "source": [
    "x = np.arange(0,2,0.01)\n",
    "plt.plot(x,-np.tanh(2*(x-1)),lw = 5,c='k')\n",
    "plt.axvline(1,lw=3,ls='--',c='k')\n",
    "plt.text(0.95,1.1,r'\\bf{$\\nu$}',fontsize=32)\n",
    "plt.axvspan(0, 1, alpha=0.5, color='red')\n",
    "plt.axvspan(1, 2, alpha=0.5, color='blue')\n",
    "plt.text(0.02,-0.5,r'\\bf Potentiating',fontsize=28)\n",
    "plt.text(1.02,0.5,r'\\bf Depressing',fontsize=32,c='w')\n",
    "plt.text(1.15,-0.55,r'$\\mathbf{F(S)}$',fontsize=32,rotation=-45,c='w')\n",
    "plt.xlim([0,2])"
   ]
  },
  {
   "cell_type": "markdown",
   "id": "1f39ad6b",
   "metadata": {},
   "source": [
    "## g"
   ]
  },
  {
   "cell_type": "code",
   "execution_count": null,
   "id": "b574f03c",
   "metadata": {
    "ExecuteTime": {
     "end_time": "2023-10-16T10:32:37.300555Z",
     "start_time": "2023-10-16T10:32:37.211268Z"
    }
   },
   "outputs": [],
   "source": [
    "stims   = np.array([[-0.63,-0.42,-0.21,0,0.21,0.42,0.63],[0,0,0,0,0,0,0]])\n",
    "lam = 1\n",
    "Cs = 0.1\n",
    "Cd = 2\n",
    "xMax = 1\n",
    "\n",
    "dx = 0.01\n",
    "x = np.arange(-xMax,xMax,dx)\n",
    "xplot = 6.66*x\n",
    "\n",
    "C1  = np.zeros_like(x) \n",
    "C2  = np.zeros_like(x) \n",
    "\n",
    "Cd = initC(stims,Cd,lam)\n",
    "\n",
    "for xs,c in zip(stims[0],Cd):\n",
    "    C1 += (Cs)*np.exp(-1000*(x-xs)**2)\n",
    "    C2 += (Cs+c)*np.exp(-1000*(x-xs)**2)\n",
    "    \n",
    "fig,ax = plt.subplots(figsize=(12,3))\n",
    "plt.axvline(stims[0,0]*6.66,lw=4,c='k',ls='--')\n",
    "plt.axvline(0,lw=4,c='k',ls='-')\n",
    "plt.plot(xplot,C2,lw=4,c='b',label='Contribution $C_d$')\n",
    "plt.plot(xplot,C1,lw=4,c='r',label='Contribution $C_s$')\n",
    "#for s in stims[0]:\n",
    "#    plt.axvline(s*6.66,c='k',lw=4,ls='--',alpha=0.25)\n",
    "plt.axhline(C2.max(),c='k',lw=4,ls='--',alpha=0.25)\n",
    "plt.axhline(C2[100],c='k',lw=4,ls='--',alpha=0.25)\n",
    "leg =plt.legend(fontsize=30,loc=3,ncol=3,bbox_to_anchor=(0.,1))\n",
    "leg.get_frame().set_linewidth(0.0)\n",
    "ax = plt.gca()\n",
    "ax.spines[\"right\"].set_visible(False)\n",
    "ax.spines[\"top\"].set_visible(False)\n",
    "ax.get_ylim()\n",
    "plt.xticks([])"
   ]
  },
  {
   "cell_type": "code",
   "execution_count": null,
   "id": "0f59a52c",
   "metadata": {
    "ExecuteTime": {
     "end_time": "2023-10-16T10:32:37.415241Z",
     "start_time": "2023-10-16T10:32:37.301606Z"
    }
   },
   "outputs": [],
   "source": [
    "stims   = np.array([[-0.63,-0.42,-0.21,0,0.21,0.42,0.63],[0,0,0,0,0,0,0]])\n",
    "lam = 1\n",
    "Cs = 0.1\n",
    "Cd = 2\n",
    "xMax = 1\n",
    "\n",
    "dx = 0.01\n",
    "x = np.arange(-xMax,xMax,dx)\n",
    "xplot = 6.66*x\n",
    "\n",
    "C1  = np.zeros_like(x) \n",
    "C2  = np.zeros_like(x) \n",
    "\n",
    "C3 = np.ones_like(x)\n",
    "Cd = initC(stims,Cd,lam)\n",
    "Cd = 1-Cd\n",
    "\n",
    "for xs,c in zip(stims[0],Cd):\n",
    "    C1 += (Cs)*np.exp(-1000*(x-xs)**2)\n",
    "    C2 += (Cs+c)*np.exp(-1000*(x-xs)**2)\n",
    "    \n",
    "fig,ax = plt.subplots(figsize=(12,3))\n",
    "plt.axvline(stims[0,0]*6.66,lw=4,c='k',ls='--')\n",
    "plt.axvline(0,lw=4,c='k',ls='-')\n",
    "plt.plot(xplot,0.5*(1-C2),lw=4,c='teal',label='Example init. $P_0$')\n",
    "\n",
    "#plt.plot(xplot,C1,lw=4,c='r',label='Contribution $C_s$')\n",
    "plt.axhline(0.5*(1-C2).min(),c='k',lw=4,ls='--',alpha=0.25)\n",
    "plt.axhline(0.5*(1-C2)[37],c='k',lw=4,ls='--',alpha=0.25)\n",
    "leg =plt.legend(fontsize=30,loc=3,ncol=3,bbox_to_anchor=(0.,1))\n",
    "leg.get_frame().set_linewidth(0.0)\n",
    "ax = plt.gca()\n",
    "ax.spines[\"right\"].set_visible(False)\n",
    "ax.spines[\"top\"].set_visible(False)\n",
    "ax.get_ylim()"
   ]
  },
  {
   "cell_type": "markdown",
   "id": "7a17846c",
   "metadata": {},
   "source": [
    "## h"
   ]
  },
  {
   "cell_type": "code",
   "execution_count": null,
   "id": "5b64e46d",
   "metadata": {
    "ExecuteTime": {
     "end_time": "2023-10-16T10:32:38.779088Z",
     "start_time": "2023-10-16T10:32:37.417195Z"
    }
   },
   "outputs": [],
   "source": [
    "cPar  = [0.001,1]\n",
    "p0Par = [0.01,1]\n",
    "pPar  = [0.01,0.01,8]\n",
    "zeta  = 1\n",
    "phi   = 1\n",
    "nu    = 1.2\n",
    "stims   = np.array([[-0.63,-0.42,-0.21,0,0.21,0.42,0.63],[0,0,0,0,0,0,0]])\n",
    "Cs = 0.1\n",
    "S = RunSimul2(cPar,p0Par,pPar,zeta,phi,nu,stims)\n",
    "\n",
    "fig,ax = plt.subplots()\n",
    "plt.plot(S[:,200],lw=3,c='k',label='middle')\n",
    "plt.plot(S[:,137],lw=3,c='k',ls='--',label='edge')\n",
    "plt.legend(fontsize=32,frameon=False)\n",
    "ax.spines[\"right\"].set_visible(False)\n",
    "ax.spines[\"top\"].set_visible(False)\n",
    "plt.yticks(rotation=90,ha='right',va='center')"
   ]
  },
  {
   "cell_type": "markdown",
   "id": "732dbff5",
   "metadata": {},
   "source": [
    "# Figure 2"
   ]
  },
  {
   "cell_type": "code",
   "execution_count": null,
   "id": "2c4dfb84",
   "metadata": {
    "ExecuteTime": {
     "end_time": "2023-10-16T10:32:38.800615Z",
     "start_time": "2023-10-16T10:32:38.783289Z"
    }
   },
   "outputs": [],
   "source": [
    "SpineDir = DatDir+'3Spine/'\n",
    "m,d = LoadThreeSpine(SpineDir,True)\n",
    "mtot = np.hstack(m)\n",
    "mtot3 = np.copy(mtot)\n",
    "SpineDir = DatDir+'3SpineS/'\n",
    "mS,d = LoadThreeSpine(SpineDir,False)"
   ]
  },
  {
   "cell_type": "markdown",
   "id": "5db8bc14",
   "metadata": {},
   "source": [
    "## d"
   ]
  },
  {
   "cell_type": "code",
   "execution_count": null,
   "id": "4b0e5324",
   "metadata": {
    "ExecuteTime": {
     "end_time": "2023-10-16T10:32:40.059592Z",
     "start_time": "2023-10-16T10:32:38.801894Z"
    }
   },
   "outputs": [],
   "source": [
    "params = np.load(DatDir+'ModelFit/ControlFit3.npy')\n",
    "\n",
    "a1 = params[0]\n",
    "a2 = params[1]\n",
    "\n",
    "b1 = params[2]\n",
    "b2 =  params[3]\n",
    "rho = params[4]\n",
    "gamma = params[5]\n",
    "\n",
    "nu = params[6]\n",
    "phi = params[7]\n",
    "\n",
    "lam = params[8]\n",
    "mu  = params[9] \n",
    "Cs  = params[10]\n",
    "Cd  = params[11]\n",
    "\n",
    "zeta1 = params[12]\n",
    "zeta2 = params[13]\n",
    "\n",
    "tMax  = 40\n",
    "xMax  = 2\n",
    "\n",
    "times = [2,10,20,30,40]\n",
    "stims_three = np.array([[-0.19,0,0.19],[0,0,0]])\n",
    "\n",
    "SpineWidth = 1000\n",
    "SM3 = SpatialModel([a1,a2],[b1,b2,rho],gamma,[zeta1,zeta2],[nu,phi],[lam,mu,Cs,Cd],tMax,xMax,stims_three)\n",
    "SM3.Simulate()\n",
    "xvec = SM3.x.round(2)\n",
    "stimlocs_three = [np.argwhere(xvec == s)[0,0] for s in stims_three[0]]\n"
   ]
  },
  {
   "cell_type": "code",
   "execution_count": null,
   "id": "876433ec",
   "metadata": {
    "ExecuteTime": {
     "end_time": "2023-10-16T10:32:40.212884Z",
     "start_time": "2023-10-16T10:32:40.061634Z"
    }
   },
   "outputs": [],
   "source": [
    "plt.plot(SM3.tvec,(SM3.S_tot[:,stimlocs_three[0]]\n",
    "                   +SM3.S_tot[:,stimlocs_three[1]]+SM3.S_tot[:,stimlocs_three[2]])/3,lw=5,\n",
    "         label='Model fit')\n",
    "ax = plt.gca()\n",
    "_,caps,_ = ax.errorbar([2,10,20,30,40],mtot[3:].mean(axis=1),stats.sem(mtot[3:],axis=1),\n",
    "             capsize=5,ls='none',marker='_',ecolor='k',\n",
    "             c='k',elinewidth=2,ms=10,mew=3,capthick=1,label='Expt. spines',alpha=0.5\n",
    "            )   \n",
    "for cap in caps:\n",
    "    cap.set_markeredgewidth(1)\n",
    "leg = ax.legend(framealpha=0.5,fontsize=32)\n",
    "leg.get_frame().set_linewidth(0.0)\n",
    "ax.spines[\"right\"].set_visible(False)\n",
    "ax.spines[\"top\"].set_visible(False)\n",
    "ax.set_xticks([2,10,20,30,40],[2,10,20,30,40])\n"
   ]
  },
  {
   "cell_type": "markdown",
   "id": "8acc3c4e",
   "metadata": {},
   "source": [
    "## e"
   ]
  },
  {
   "cell_type": "code",
   "execution_count": null,
   "id": "0e29f351",
   "metadata": {
    "ExecuteTime": {
     "end_time": "2023-10-16T10:32:40.291510Z",
     "start_time": "2023-10-16T10:32:40.215265Z"
    }
   },
   "outputs": [],
   "source": [
    "fig,ax = plt.subplots()\n",
    "_,caps,_ = ax.errorbar([-15,-10,-5,2,10,20,30,40],m[0].mean(axis=1),stats.sem(m[0],axis=1),\n",
    "             capsize=5,lw=3,marker='_',ecolor=C[ColorDict['Control']],\n",
    "             c=C[ColorDict['Control']],elinewidth=2,ms=10,mew=3,capthick=1\n",
    "            )   \n",
    "for cap in caps:\n",
    "    cap.set_markeredgewidth(1)\n",
    "    \n",
    "_,caps,_ = ax.errorbar([-15,-10,-5,2,10,20,30,40],m[1].mean(axis=1),stats.sem(m[1],axis=1),\n",
    "             capsize=5,lw=3,marker='_',ecolor=C[ColorDict['Control']-1],\n",
    "             c=C[ColorDict['Control']-1],elinewidth=2,ms=10,mew=3,capthick=1\n",
    "            )   \n",
    "for cap in caps:\n",
    "    cap.set_markeredgewidth(1)\n",
    "\n",
    "ax.spines[\"right\"].set_visible(False)\n",
    "ax.spines[\"top\"].set_visible(False)\n",
    "ax.set_xticks([-15,-10,-5,2,10,20,30,40],[-15,-10,-5,2,10,20,30,40],rotation=45)\n",
    "plt.show()"
   ]
  },
  {
   "cell_type": "markdown",
   "id": "96b664ad",
   "metadata": {},
   "source": [
    "## f"
   ]
  },
  {
   "cell_type": "code",
   "execution_count": null,
   "id": "a44ee8c4",
   "metadata": {
    "ExecuteTime": {
     "end_time": "2023-10-16T10:32:40.365617Z",
     "start_time": "2023-10-16T10:32:40.292917Z"
    }
   },
   "outputs": [],
   "source": [
    "plt.plot(SM3.tvec,SM3.S_tot[:,stimlocs_three[0]],c=C[ColorDict['Control']-1],lw=5)\n",
    "plt.plot(SM3.tvec,SM3.S_tot[:,stimlocs_three[1]],c=C[ColorDict['Control']],lw=5)\n",
    "ax = plt.gca()\n",
    "ax.spines[\"right\"].set_visible(False)\n",
    "ax.spines[\"top\"].set_visible(False)\n",
    "ax.set_xticks([2,10,20,30,40],[2,10,20,30,40])\n",
    "ax.set_ylim((0.5548009922104938, 3.2444933533858356))"
   ]
  },
  {
   "cell_type": "markdown",
   "id": "475ebc03",
   "metadata": {},
   "source": [
    "## g"
   ]
  },
  {
   "cell_type": "code",
   "execution_count": null,
   "id": "ccedd870",
   "metadata": {
    "ExecuteTime": {
     "end_time": "2023-10-16T10:32:40.428499Z",
     "start_time": "2023-10-16T10:32:40.366795Z"
    }
   },
   "outputs": [],
   "source": [
    "plt.bar([0],np.mean(m[0][3]),yerr=stats.sem(m[0][3]),width=0.25,color=C[ColorDict['Control']])\n",
    "plt.bar([0.25],np.mean(m[1][3]),yerr=stats.sem(m[1][3]),width=0.25,color=C[ColorDict['Control']-1])\n",
    "\n",
    "plt.plot([-0.02,0.98],[3.7,3.7],c='k')\n",
    "print(stats.ttest_ind(m[0][3],mS[0][3]))\n",
    "plt.plot(0.48,3.81,marker=(6, 2, 0),c='k',ms=15)\n",
    "print(stats.ttest_ind(m[1][3],mS[1][3]))\n",
    "\n",
    "plt.plot([0.27,1.27],[3.3,3.3],c='k')\n",
    "plt.plot(0.77,3.41,marker=(6, 2, 0),c='k',ms=15)\n",
    "\n",
    "plt.bar([1],np.mean(mS[0][3]),yerr=stats.sem(mS[0][3]),width=0.25,color=C[ColorDict['Sham']])\n",
    "plt.bar([1.25],np.mean(mS[1][3]),yerr=stats.sem(mS[1][3]),width=0.25,color=C[ColorDict['Sham']-1])\n",
    "plt.xticks([0.125,1.125],['Stimulated','Sham'],fontsize=32)\n",
    "ax = plt.gca()\n",
    "ax.spines[\"right\"].set_visible(False)\n",
    "ax.spines[\"top\"].set_visible(False)\n",
    "#plt.savefig(SaveDir+'3ClustComp1.pdf',format='pdf',bbox_inches='tight')"
   ]
  },
  {
   "cell_type": "markdown",
   "id": "1f16b077",
   "metadata": {},
   "source": [
    "## h"
   ]
  },
  {
   "cell_type": "code",
   "execution_count": null,
   "id": "71f86899",
   "metadata": {
    "ExecuteTime": {
     "end_time": "2023-10-16T10:32:40.492125Z",
     "start_time": "2023-10-16T10:32:40.429781Z"
    }
   },
   "outputs": [],
   "source": [
    "plt.bar([0],np.mean(m[0][-1]),yerr=stats.sem(m[0][-1]),width=0.25,color=C[ColorDict['Control']])\n",
    "plt.bar([0.25],np.mean(m[1][-1]),yerr=stats.sem(m[1][-1]),width=0.25,color=C[ColorDict['Control']-1])\n",
    "\n",
    "plt.plot([0.27,1.27],[1.8,1.8],c='k')\n",
    "print(stats.ttest_ind(m[0][-1],mS[0][-1]))\n",
    "plt.plot(0.77,2,marker=(6, 2, 0),c='k',ms=15)\n",
    "print(stats.ttest_ind(m[1][-1],mS[1][-1]))\n",
    "\n",
    "plt.bar([1],np.mean(mS[0][-1]),yerr=stats.sem(mS[0][-1]),width=0.25,color=C[ColorDict['Sham']])\n",
    "plt.bar([1.25],np.mean(mS[1][-1]),yerr=stats.sem(mS[1][-1]),width=0.25,color=C[ColorDict['Sham']-1])\n",
    "plt.xticks([0.125,1.125],['Stimulated','Sham'],fontsize=32)\n",
    "plt.ylim((0.0, 3.9795))\n",
    "ax = plt.gca()\n",
    "ax.spines[\"right\"].set_visible(False)\n",
    "ax.spines[\"top\"].set_visible(False)\n",
    "#plt.savefig(SaveDir+'3ClustComp2.pdf',format='pdf',bbox_inches='tight')"
   ]
  },
  {
   "cell_type": "markdown",
   "id": "871ae5f1",
   "metadata": {
    "ExecuteTime": {
     "end_time": "2023-10-11T14:40:39.461999Z",
     "start_time": "2023-10-11T14:40:39.454908Z"
    }
   },
   "source": [
    "## i"
   ]
  },
  {
   "cell_type": "code",
   "execution_count": null,
   "id": "24dd1c54",
   "metadata": {
    "ExecuteTime": {
     "end_time": "2023-10-16T10:32:40.668222Z",
     "start_time": "2023-10-16T10:32:40.493241Z"
    }
   },
   "outputs": [],
   "source": [
    "fig,ax = plt.subplots(2,1,figsize=(6.4,4.8))\n",
    "plt.subplots_adjust(wspace=0, hspace=0)\n",
    "ax[0].set_xticks([])\n",
    "ax[0].plot(SM3.tvec,SM3.C_tot[:,stimlocs_three[0]],\n",
    "         c=C[ColorDict['Control']],lw=5,label='C - edge')\n",
    "ax[0].plot(SM3.tvec,SM3.C_tot[:,stimlocs_three[1]],\n",
    "         c=C[ColorDict['Control']-1],lw=5,label='C - mid.',ls='--')\n",
    "ax[0].axhline(SM3.C_tot[0,stimlocs_three[0]],lw=3,ls='--',c=C[ColorDict['Sham']],label='Init. C - edge')\n",
    "ax[0].axhline(SM3.C_tot[0,stimlocs_three[1]],lw=3,c=C[ColorDict['Sham']-1],ls='--',label='Init. C - mid.')\n",
    "\n",
    "ax[0].legend(ncols=2,fontsize=28,loc=5,frameon=False,handlelength=0.5,borderpad=0.0,\n",
    "             handletextpad=0.5,columnspacing=0.5)\n",
    "ax[1].plot(SM3.tvec,SM3.zeta2*SM3.P_tot[:,stimlocs_three[0]],\n",
    "         c=[1,0,0],lw=5,label='P - edge')\n",
    "ax[1].plot(SM3.tvec,SM3.zeta2*SM3.P_tot[:,stimlocs_three[1]],\n",
    "         c=[1,0.5,0.5],lw=5,label='P - mid.',ls='--')\n",
    "ax[1].legend(ncols=2,fontsize=28,frameon=False,handlelength=0.5,borderpad=0.0,\n",
    "             handletextpad=0.5,columnspacing=0.5)"
   ]
  },
  {
   "cell_type": "markdown",
   "id": "943c004d",
   "metadata": {},
   "source": [
    "# Figure 3"
   ]
  },
  {
   "cell_type": "code",
   "execution_count": null,
   "id": "0b1adb43",
   "metadata": {
    "ExecuteTime": {
     "end_time": "2023-10-16T10:32:40.692411Z",
     "start_time": "2023-10-16T10:32:40.670544Z"
    }
   },
   "outputs": [],
   "source": [
    "SpineDir = DatDir+'/1Spine/'\n",
    "mt= LoadOneSpine(SpineDir,True)\n",
    "SpineDir = DatDir+'/1SpineCalc/'\n",
    "m= LoadOneSpine(SpineDir,True)\n",
    "SpineDir = DatDir+'/1SpineCam/'\n",
    "m2= LoadOneSpine(SpineDir,False)\n",
    "SpineDir = DatDir+'/1SpineS/'\n",
    "m3= LoadOneSpine(SpineDir,False)\n",
    "mt1 = np.copy(mt)"
   ]
  },
  {
   "cell_type": "code",
   "execution_count": null,
   "id": "6d4bab2e",
   "metadata": {
    "ExecuteTime": {
     "end_time": "2023-10-16T10:32:41.964574Z",
     "start_time": "2023-10-16T10:32:40.693947Z"
    }
   },
   "outputs": [],
   "source": [
    "params = np.load(DatDir+'ModelFit/ControlFit3.npy')\n",
    "\n",
    "\n",
    "a1 = params[0]\n",
    "a2 = params[1]\n",
    "\n",
    "b1 = params[2]\n",
    "b2 =  params[3]\n",
    "rho = params[4]*3\n",
    "gamma = params[5]\n",
    "\n",
    "nu = params[6]\n",
    "phi = params[7]\n",
    "\n",
    "lam = params[8]\n",
    "mu  = params[9] \n",
    "Cs  = params[10]\n",
    "Cd  = params[11]/2\n",
    "\n",
    "zeta1 = params[12]\n",
    "zeta2 = params[13]\n",
    "\n",
    "tMax  = 40\n",
    "xMax  = 2\n",
    "\n",
    "times = [2,10,20,30,40]\n",
    "stims_one   = np.array([[0],[0]])\n",
    "\n",
    "SpineWidth = 1000\n",
    "SM1 = SpatialModel([a1,a2],[b1,b2,rho],gamma,[zeta1,zeta2],[nu,phi],[lam,mu,Cs,Cd],tMax,xMax,stims_one)\n",
    "SM1.Simulate()"
   ]
  },
  {
   "cell_type": "markdown",
   "id": "59d6b4e8",
   "metadata": {},
   "source": [
    "## d"
   ]
  },
  {
   "cell_type": "code",
   "execution_count": null,
   "id": "c998aa1c",
   "metadata": {
    "ExecuteTime": {
     "end_time": "2023-10-16T10:32:42.081327Z",
     "start_time": "2023-10-16T10:32:41.965589Z"
    }
   },
   "outputs": [],
   "source": [
    "_,caps,_ = plt.errorbar(Fulltimes,np.nanmean(mt,axis=1),stats.sem(mt,axis=1,nan_policy='omit'),\n",
    "             capsize=5,marker='_',ecolor=C[ColorDict['Control']],label='Control',\n",
    "             c=C[ColorDict['Control']],elinewidth=1,ms=10,mew=3,capthick=1,lw=lw\n",
    "            )   \n",
    "_,caps,_ = plt.errorbar(Fulltimes,np.mean(m,axis=1),stats.sem(m,axis=1),\n",
    "             capsize=5,marker='_',ecolor=C[ColorDict['Calcineurin']],\n",
    "             c=C[ColorDict['Calcineurin']],elinewidth=1,ms=10,mew=3,capthick=1,lw=lw,label='FK506'\n",
    "            )   \n",
    "_,caps,_ = plt.errorbar(Fulltimes,np.mean(m2,axis=1),stats.sem(m2,axis=1),\n",
    "             capsize=5,marker='_',ecolor=C[ColorDict['CamKII']],\n",
    "             c=C[ColorDict['CamKII']],elinewidth=1,ms=10,mew=3,capthick=1,lw=lw,label='AIP'\n",
    "            )   \n",
    "ax = plt.gca()\n",
    "ax.spines[\"right\"].set_visible(False)\n",
    "ax.spines[\"top\"].set_visible(False)\n",
    "\n",
    "# get handles\n",
    "handles, labels = ax.get_legend_handles_labels()\n",
    "# remove the errorbars\n",
    "handles = [h[0] for h in handles]\n",
    "# use them in the legend\n",
    "leg = ax.legend(handles, labels, framealpha=0.5,fontsize=28,loc=1,bbox_to_anchor=(1.11,1.12))\n",
    "leg.get_frame().set_linewidth(0.0)\n",
    "ax.set_xticks([-15,-10,-5,2,10,20,30,40],[-15,-10,-5,2,10,20,30,40],rotation=45)"
   ]
  },
  {
   "cell_type": "markdown",
   "id": "36a8d14a",
   "metadata": {
    "ExecuteTime": {
     "end_time": "2023-10-11T14:56:42.464091Z",
     "start_time": "2023-10-11T14:56:42.456932Z"
    }
   },
   "source": [
    "## e"
   ]
  },
  {
   "cell_type": "code",
   "execution_count": null,
   "id": "6c739649",
   "metadata": {
    "ExecuteTime": {
     "end_time": "2023-10-16T10:32:42.161618Z",
     "start_time": "2023-10-16T10:32:42.082557Z"
    }
   },
   "outputs": [],
   "source": [
    "plt.bar([0],np.mean(mt[3]),yerr=stats.sem(mt[3]))\n",
    "plt.bar([1],np.mean(m[3]),yerr=stats.sem(m[3]))\n",
    "plt.bar([2],np.mean(m2[3]),yerr=stats.sem(m2[3]))\n",
    "plt.bar([3],np.mean(m3[3]),yerr=stats.sem(m3[3]),color=C[ColorDict['Sham']])\n",
    "plt.plot([-0.02,0.98],[2.5,2.5],c='k')\n",
    "print(stats.ttest_ind(mt[3],m3[3]))\n",
    "plt.plot([0.98,2.98],[2.8,2.8],c='k')\n",
    "print(stats.ttest_ind(m[3],m3[3]))\n",
    "plt.plot([-0.02,2.98],[3.1,3.1],c='k')\n",
    "print(stats.ttest_ind(mt[3],m[3]))\n",
    "plt.plot([1.98,2.98],[2.,2.],c='k')\n",
    "print(stats.ttest_ind(m2[3],m3[3]))\n",
    "plt.text(0.3,2.6,'n.s.',fontsize=28)\n",
    "plt.text(2.3,2.1,'n.s.',fontsize=28)\n",
    "plt.plot(1.48,3.2,marker=(6, 2, 0),c='k',ms=15)\n",
    "plt.plot(1.98,2.9,marker=(6, 2, 0),c='k',ms=15)\n",
    "plt.xticks([0,1,2,3],['Control','FK506','AIP','Sham'],rotation=25,fontsize=36)\n",
    "ax = plt.gca()\n",
    "ax.spines[\"right\"].set_visible(False)\n",
    "ax.spines[\"top\"].set_visible(False)\n",
    "#plt.savefig(SaveDir+'1DataStim.pdf',format='pdf',bbox_inches='tight')"
   ]
  },
  {
   "cell_type": "code",
   "execution_count": null,
   "id": "9a006659",
   "metadata": {
    "ExecuteTime": {
     "end_time": "2023-10-11T15:04:30.687423Z",
     "start_time": "2023-10-11T15:04:30.680042Z"
    }
   },
   "outputs": [],
   "source": []
  },
  {
   "cell_type": "markdown",
   "id": "eaf05ca8",
   "metadata": {},
   "source": [
    "## f"
   ]
  },
  {
   "cell_type": "code",
   "execution_count": null,
   "id": "35935798",
   "metadata": {
    "ExecuteTime": {
     "end_time": "2023-10-16T10:32:42.280432Z",
     "start_time": "2023-10-16T10:32:42.163240Z"
    }
   },
   "outputs": [],
   "source": [
    "plt.bar([0],np.mean(mt[-1]),yerr=stats.sem(mt[-1]))\n",
    "plt.bar([1],np.mean(m[-1]),yerr=stats.sem(m[-1]))\n",
    "plt.bar([2],np.mean(m2[-1]),yerr=stats.sem(m2[-1]))\n",
    "plt.bar([3],np.mean(m3[-1]),yerr=stats.sem(m3[-1]),color=C[ColorDict['Sham']])\n",
    "print(stats.ttest_ind(mt[-1],m3[-1]))\n",
    "plt.plot([0.98,2.98],[2.8,2.8],c='k')\n",
    "print(stats.ttest_ind(m[-1],m3[-1]))\n",
    "plt.plot([-0.02,2.98],[3.1,3.1],c='k')\n",
    "print(stats.ttest_ind(mt[-1],m[-1]))\n",
    "plt.plot([1.98,2.98],[2.,2.],c='k')\n",
    "print(stats.ttest_ind(m2[-1],m3[-1]))\n",
    "plt.text(0.3,2.6,'n.s.',fontsize=28)\n",
    "plt.text(2.3,2.1,'n.s.',fontsize=28)\n",
    "plt.plot(1.48,3.2,marker=(6, 2, 0),c='k',ms=15)\n",
    "plt.plot(1.98,2.9,marker=(6, 2, 0),c='k',ms=15)\n",
    "plt.xticks([0,1,2,3],['Control','FK506','AIP','Sham'],rotation=25,fontsize=36)\n",
    "ax = plt.gca()\n",
    "ax.spines[\"right\"].set_visible(False)\n",
    "ax.spines[\"top\"].set_visible(False)"
   ]
  },
  {
   "cell_type": "markdown",
   "id": "ccd54886",
   "metadata": {},
   "source": [
    "## g"
   ]
  },
  {
   "cell_type": "code",
   "execution_count": null,
   "id": "38a01947",
   "metadata": {
    "ExecuteTime": {
     "end_time": "2023-10-16T10:32:42.379824Z",
     "start_time": "2023-10-16T10:32:42.281967Z"
    }
   },
   "outputs": [],
   "source": [
    "plt.plot(SM1.tvec,SM1.S_tot[:,stimlocs_three[1]],c=C[ColorDict['Control']],lw=5,label=r'Model pred.')\n",
    "ax = plt.gca()\n",
    "_,caps,_ = ax.errorbar([2,10,20,30,40],np.nanmean(mt[3:],axis=1),stats.sem(mt[3:],axis=1,nan_policy='omit'),\n",
    "             capsize=5,ls='none',marker='_',ecolor='k',\n",
    "             c='k',elinewidth=2,ms=10,mew=3,capthick=1,label='Avg. of expt.\\n stim. spine',alpha=0.5\n",
    "            )   \n",
    "for cap in caps:\n",
    "    cap.set_markeredgewidth(1)\n",
    "leg = ax.legend(framealpha=0.5,fontsize=28,loc=1,bbox_to_anchor=(1,1.0))\n",
    "leg.get_frame().set_linewidth(0.0)\n",
    "ax.spines[\"right\"].set_visible(False)\n",
    "ax.spines[\"top\"].set_visible(False)\n",
    "ax.set_xticks([2,10,20,30,40])\n",
    "#plt.savefig(SaveDir+'1Model.pdf',format='pdf',bbox_inches='tight')"
   ]
  },
  {
   "cell_type": "markdown",
   "id": "2ca93819",
   "metadata": {},
   "source": [
    "## h"
   ]
  },
  {
   "cell_type": "code",
   "execution_count": null,
   "id": "7488226d",
   "metadata": {
    "ExecuteTime": {
     "end_time": "2023-10-16T10:32:43.520950Z",
     "start_time": "2023-10-16T10:32:42.381105Z"
    }
   },
   "outputs": [],
   "source": [
    "params = np.load(DatDir+'ModelFit/ControlFit1Calc.npy')\n",
    "\n",
    "\n",
    "a1 = params[0]\n",
    "a2 = params[1]\n",
    "\n",
    "b1 = params[2]\n",
    "b2 =  params[3]\n",
    "rho = params[4]\n",
    "gamma = params[5]\n",
    "\n",
    "nu = params[6]\n",
    "phi = params[7]\n",
    "\n",
    "lam = params[8]\n",
    "mu  = params[9] \n",
    "Cs  = params[10]\n",
    "Cd  = params[11]\n",
    "\n",
    "zeta1 = params[12]\n",
    "zeta2 = params[13]\n",
    "\n",
    "tMax  = 40\n",
    "xMax  = 2\n",
    "\n",
    "times = [2,10,20,30,40]\n",
    "stims_one   = np.array([[0],[0]])\n",
    "\n",
    "SpineWidth = 1000\n",
    "\n",
    "SMCalc = SpatialModel([a1,a2],[b1,b2,rho],gamma,[zeta1,zeta2],[nu,phi],\n",
    "                   [lam,mu,Cs,Cd],tMax,xMax,stims_one)\n",
    "SMCalc.Simulate()\n"
   ]
  },
  {
   "cell_type": "code",
   "execution_count": null,
   "id": "b42001cb",
   "metadata": {
    "ExecuteTime": {
     "end_time": "2023-10-16T10:32:43.598926Z",
     "start_time": "2023-10-16T10:32:43.521770Z"
    }
   },
   "outputs": [],
   "source": [
    "\n",
    "p1 ,caps,_ = plt.errorbar([2,10,20,30,40],np.nanmean(m[3:],axis=1),stats.sem(m[3:],axis=1,nan_policy='omit'),\n",
    "             capsize=5,ls='none',marker='_',ecolor='k',\n",
    "             c='k',elinewidth=2,ms=10,mew=3,capthick=1,label='Avg. of expt.\\n stim. spine \\n FK506',alpha=0.5\n",
    "            )   \n",
    "p2 = plt.plot(SMCalc.tvec,SMCalc.S_tot[:,stimlocs_three[1]],c=C[ColorDict['Calcineurin']],lw=5,\n",
    "         )\n",
    "ax = plt.gca()\n",
    "for cap in caps:\n",
    "    cap.set_markeredgewidth(1)\n",
    "leg = ax.legend(framealpha=0.0,fontsize=28,loc=1,bbox_to_anchor = (1.1,0.9))\n",
    "#l1 = ax.legend([p1], ['Avg. of expt.\\n stim. spine \\n FK506'], loc=1,framealpha=0.5,fontsize=24)\n",
    "l2 = ax.legend([p2[0]], [r'Model pred., higher $\\frac{\\zeta_1}{\\zeta_2}$'], loc=1,framealpha=0.0,fontsize=28,\n",
    "                bbox_to_anchor=(1.075,1.05))\n",
    "leg.get_frame().set_linewidth(0.0)\n",
    "l2.get_frame().set_linewidth(0.0)\n",
    "ax.spines[\"right\"].set_visible(False)\n",
    "ax.add_artist(leg)\n",
    "ax.add_artist(l2)\n",
    "ax.spines[\"top\"].set_visible(False)\n",
    "ax.set_ylim((0.8019776806368575, 2.8876038980241576))\n",
    "ax.set_xticks([2,10,20,30,40])\n",
    "\n",
    "plt.show()"
   ]
  },
  {
   "cell_type": "code",
   "execution_count": null,
   "id": "804dc651",
   "metadata": {
    "ExecuteTime": {
     "end_time": "2023-10-16T10:32:44.711472Z",
     "start_time": "2023-10-16T10:32:43.600587Z"
    }
   },
   "outputs": [],
   "source": [
    "params = np.load(DatDir+'ModelFit/ControlFit1Cam.npy')\n",
    "\n",
    "\n",
    "a1 = params[0]\n",
    "a2 = params[1]\n",
    "\n",
    "b1 = params[2]\n",
    "b2 =  params[3]\n",
    "rho = params[4]\n",
    "gamma = params[5]\n",
    "\n",
    "nu = params[6]\n",
    "phi = params[7]\n",
    "\n",
    "lam = params[8]\n",
    "mu  = params[9] \n",
    "Cs  = params[10]\n",
    "Cd  = params[11]\n",
    "\n",
    "zeta1 = params[12]\n",
    "zeta2 = params[13]\n",
    "\n",
    "tMax  = 40\n",
    "xMax  = 2\n",
    "\n",
    "times = [2,10,20,30,40]\n",
    "stims_one   = np.array([[0],[0]])\n",
    "\n",
    "SpineWidth = 1000\n",
    "\n",
    "SMCam = SpatialModel([a1,a2],[b1,b2,rho],gamma,[zeta1,zeta2],[nu,phi],\n",
    "                   [lam,mu,Cs,Cd],tMax,xMax,stims_one)\n",
    "SMCam.Simulate()\n"
   ]
  },
  {
   "cell_type": "code",
   "execution_count": null,
   "id": "93ba2193",
   "metadata": {
    "ExecuteTime": {
     "end_time": "2023-10-16T10:32:44.814686Z",
     "start_time": "2023-10-16T10:32:44.712497Z"
    }
   },
   "outputs": [],
   "source": [
    "plt.plot(SMCam.tvec,SMCam.S_tot[:,stimlocs_three[1]],c=C[ColorDict['CamKII']],lw=5,\n",
    "         label=r'Model pred., lower $\\frac{\\zeta_1}{\\zeta_2}$, $\\nu$')\n",
    "plt.axhline(1,ls='--',c=C[ColorDict['CamKII']-1],lw=5,label='Trivial solution')\n",
    "ax = plt.gca()\n",
    "_,caps,_ = ax.errorbar([2,10,20,30,40],np.nanmean(m2[3:],axis=1),stats.sem(m2[3:],axis=1,nan_policy='omit'),\n",
    "             capsize=5,ls='none',marker='_',ecolor='k',\n",
    "             c='k',elinewidth=2,ms=10,mew=3,capthick=1,label='Avg. of expt.\\n stim. spine \\n AIP',alpha=0.5\n",
    "            )   \n",
    "for cap in caps:\n",
    "    cap.set_markeredgewidth(1)\n",
    "leg = ax.legend(framealpha=0.0,fontsize=28,loc=1,bbox_to_anchor=(1.1,1.05))\n",
    "leg.get_frame().set_linewidth(0.0)\n",
    "ax.spines[\"right\"].set_visible(False)\n",
    "ax.spines[\"top\"].set_visible(False)\n",
    "ax.set_ylim((0.8019776806368575, 2.8876038980241576))\n",
    "ax.set_xticks([2,10,20,30,40])"
   ]
  },
  {
   "cell_type": "markdown",
   "id": "21508985",
   "metadata": {},
   "source": [
    "# Figure 4"
   ]
  },
  {
   "cell_type": "code",
   "execution_count": null,
   "id": "d13a3297",
   "metadata": {
    "ExecuteTime": {
     "end_time": "2023-10-16T10:32:44.845821Z",
     "start_time": "2023-10-16T10:32:44.819907Z"
    }
   },
   "outputs": [],
   "source": [
    "SpineDir = DatDir+'7Spine/'\n",
    "m,d,p = LoadSevenSpine3(SpineDir)\n",
    "SType = []\n",
    "for testd in d:\n",
    "    stype = []\n",
    "    for td in testd:\n",
    "        if((testd-td <= 0).all() or (testd-td>=0).all()):\n",
    "           stype.append('o')\n",
    "        else:\n",
    "            diff = testd-td\n",
    "            p1 = diff[diff>0].min()\n",
    "            p2 = diff[diff<0].max()\n",
    "            if(p1>2 or p2 < -2):\n",
    "                stype.append('e')\n",
    "            else:\n",
    "                stype.append('m')\n",
    "    SType.append(stype)\n",
    "SType = np.hstack(SType)\n",
    "\n",
    "S = SType[[not p1 for p1 in p]]\n",
    "\n",
    "mt7 = np.copy(m)\n",
    "\n",
    "mtot7 = np.copy(mtot)\n",
    "SpineDirSham = DatDir+'7SpineS/'\n",
    "mS,dS = LoadSevenSpine2(SpineDirSham,False)\n",
    "mtotS = np.hstack(mS)\n",
    "\n",
    "SpineDir = DatDir+'7SpineD/'\n",
    "mD,dD = LoadSevenSpine2(SpineDir)\n",
    "mtotD = np.hstack(mD)"
   ]
  },
  {
   "cell_type": "markdown",
   "id": "a9feffd1",
   "metadata": {},
   "source": [
    "## d"
   ]
  },
  {
   "cell_type": "code",
   "execution_count": null,
   "id": "9e1a90f6",
   "metadata": {
    "ExecuteTime": {
     "end_time": "2023-10-16T10:32:45.986768Z",
     "start_time": "2023-10-16T10:32:44.846679Z"
    }
   },
   "outputs": [],
   "source": [
    "params = np.load(DatDir+'ModelFit/ControlFit3.npy')\n",
    "\n",
    "a1 = params[0]\n",
    "a2 = params[1]\n",
    "\n",
    "b1 = params[2]\n",
    "b2 =  params[3]\n",
    "rho = 5*params[4]/7\n",
    "gamma = params[5]\n",
    "\n",
    "nu = params[6]\n",
    "phi = params[7]\n",
    "\n",
    "lam = params[8]\n",
    "mu  = params[9] \n",
    "Cs  = params[10]\n",
    "Cd  = 2.5*params[11]/7\n",
    "\n",
    "zeta1 = params[12]\n",
    "zeta2 = params[13]\n",
    "\n",
    "tMax  = 40\n",
    "xMax  = 2\n",
    "\n",
    "times = [2,10,20,30,40]\n",
    "stims_one   = np.array([[0],[0]])\n",
    "stims_seven   = np.array([[-0.63,-0.42,-0.21,0,0.21,0.42,0.63],[0,0,0,0,0,0,0]])\n",
    "\n",
    "SpineWidth = 1000\n",
    "stimlocs_seven = [np.argwhere(xvec == s)[0,0] for s in stims_seven[0]]\n",
    "\n",
    "\n",
    "SM7 = SpatialModel([a1,a2],[b1,b2,rho],gamma,[zeta1,zeta2],[nu,phi],[lam,mu,Cs,Cd],tMax,xMax,stims_seven)\n",
    "SM7.Simulate()"
   ]
  },
  {
   "cell_type": "code",
   "execution_count": null,
   "id": "f0744433",
   "metadata": {
    "ExecuteTime": {
     "end_time": "2023-10-16T10:32:46.116957Z",
     "start_time": "2023-10-16T10:32:45.987855Z"
    }
   },
   "outputs": [],
   "source": [
    "plt.plot(SM7.tvec,np.mean([SM7.S_tot[:,s] for s in stimlocs_seven],axis=0),lw=5\n",
    "        ,label='Model pred.')\n",
    "ax = plt.gca()\n",
    "_,caps,_ = ax.errorbar([2,10,20,30,40],m[:,3:].mean(axis=0),stats.sem(m[:,3:],axis=0),\n",
    "             capsize=5,ls='none',marker='_',ecolor='k',\n",
    "             c='k',elinewidth=2,ms=10,mew=3,capthick=1,label='Expt. spines',alpha=0.5\n",
    "            )   \n",
    "for cap in caps:\n",
    "    cap.set_markeredgewidth(1)\n",
    "    \n",
    "    ax.spines[\"right\"].set_visible(False)\n",
    "ax.spines[\"top\"].set_visible(False)\n",
    "ax.set_xticks([2,10,20,30,40])\n",
    "leg = ax.legend(framealpha=0.5,fontsize=32,loc=1,bbox_to_anchor=(1.1,1.05))\n",
    "leg.get_frame().set_linewidth(0.0)\n",
    "#plt.savefig(SaveDir+'7Avg.pdf',format='pdf',bbox_inches='tight')"
   ]
  },
  {
   "cell_type": "markdown",
   "id": "8c2d51ba",
   "metadata": {},
   "source": [
    "## e"
   ]
  },
  {
   "cell_type": "code",
   "execution_count": null,
   "id": "8161e27f",
   "metadata": {
    "ExecuteTime": {
     "end_time": "2023-10-16T10:32:46.190855Z",
     "start_time": "2023-10-16T10:32:46.118479Z"
    }
   },
   "outputs": [],
   "source": [
    "plt.bar([0],np.mean(m[:,3]),yerr=stats.sem(m[:,3]),width=0.25,color=C[ColorDict['Control']])\n",
    "plt.bar([0.3],np.mean(m[:,-1]),yerr=stats.sem(m[:,-1]),width=0.25,color=C[ColorDict['Control']])\n",
    "\n",
    "plt.bar([1],np.mean(mtotS[3]),yerr=stats.sem(mtotS[3]),width=0.25,color=C[ColorDict['Sham']])\n",
    "plt.bar([1.3],np.mean(mtotS[-1]),yerr=stats.sem(mtotS[-1]),width=0.25,color=C[ColorDict['Sham']])\n",
    "\n",
    "\n",
    "plt.plot([-0.02,0.98],[2.7,2.7],c='k')\n",
    "print(stats.ttest_ind(m[:,3],mtotS[3]))\n",
    "plt.plot(0.48,2.79,marker=(6, 2, 0),c='k',ms=15)\n",
    "\n",
    "plt.plot([0.27,1.27],[2.3,2.3],c='k')\n",
    "print(stats.ttest_ind(m[:,-1],mtotS[-1]))\n",
    "plt.plot(0.77,2.39,marker=(6, 2, 0),c='k',ms=15)\n",
    "\n",
    "plt.text(-0.06,0.2,'2 min',rotation=90,fontsize=28,color='w')\n",
    "plt.text(0.3-0.06,0.2,'40 min',rotation=90,fontsize=28,color='w')\n",
    "\n",
    "plt.text(1-0.06,0.2,'2 min',rotation=90,fontsize=28,color='w')\n",
    "plt.text(1.3-0.06,0.2,'40 min',rotation=90,fontsize=28,color='w')\n",
    "plt.xticks([0.15,1.15],['Stimulated','Sham'],fontsize=38)\n",
    "ax = plt.gca()\n",
    "ax.spines[\"right\"].set_visible(False)\n",
    "ax.spines[\"top\"].set_visible(False)"
   ]
  },
  {
   "cell_type": "markdown",
   "id": "8ff0c3c4",
   "metadata": {},
   "source": [
    "## f"
   ]
  },
  {
   "cell_type": "code",
   "execution_count": null,
   "id": "0b35e7a4",
   "metadata": {
    "ExecuteTime": {
     "end_time": "2023-10-16T10:32:46.265578Z",
     "start_time": "2023-10-16T10:32:46.192034Z"
    }
   },
   "outputs": [],
   "source": [
    "plt.plot(SM7.tvec,SM7.S_tot[:,stimlocs_seven[0]],c=C[ColorDict['Control']-1],lw=5)\n",
    "plt.plot(SM7.tvec,SM7.S_tot[:,stimlocs_seven[3]],c=C[ColorDict['Control']],lw=5)\n",
    "ax = plt.gca()\n",
    "m1 = m[S=='m']\n",
    "_,caps,_ = ax.errorbar([2,10,20,30,40],m1[:,3:].mean(axis=0),stats.sem(m1[:,3:],axis=0),\n",
    "             capsize=5,lw=3,ls='--',marker='_',ecolor=C[ColorDict['Sham']],\n",
    "             c=C[ColorDict['Sham']],elinewidth=2,ms=10,mew=3,capthick=1\n",
    "            )   \n",
    "for cap in caps:\n",
    "    cap.set_markeredgewidth(1)\n",
    "\n",
    "m2 = m[S=='e']\n",
    "_,caps,_ = ax.errorbar([2,10,20,30,40],m2[:,3:].mean(axis=0),stats.sem(m2[:,3:],axis=0),\n",
    "             capsize=5,lw=3,ls='--',marker='_',ecolor=C[ColorDict['Sham']-1],\n",
    "             c=C[ColorDict['Sham']-1],elinewidth=2,ms=10,mew=3,capthick=1\n",
    "            )   \n",
    "for cap in caps:\n",
    "    cap.set_markeredgewidth(1)\n",
    "\n",
    "ax.spines[\"right\"].set_visible(False)\n",
    "ax.spines[\"top\"].set_visible(False)\n",
    "ax.set_xticks([2,10,20,30,40])\n",
    "\n",
    "plt.plot([20,20],[1.8,1.9],c='k')\n",
    "plt.plot(20,1.95,marker=(6, 2, 0),c='k',ms=10)\n",
    "\n",
    "ax.set_ylim(0.9483729305222584,2.3)"
   ]
  },
  {
   "cell_type": "markdown",
   "id": "2ddfda5a",
   "metadata": {},
   "source": [
    "## g"
   ]
  },
  {
   "cell_type": "code",
   "execution_count": null,
   "id": "bb4445e7",
   "metadata": {
    "ExecuteTime": {
     "end_time": "2023-10-16T10:32:46.271317Z",
     "start_time": "2023-10-16T10:32:46.267388Z"
    }
   },
   "outputs": [],
   "source": [
    "mind = []\n",
    "for d2 in d:\n",
    "    dt = np.sort(d2)\n",
    "    for i in range(len(dt)):\n",
    "        mind.append(min(abs(dt[i]-dt[(i-1)%len(dt)]),abs(dt[(i+1)%len(dt)]-dt[i])))\n",
    "mindD = []\n",
    "for d2 in dD:\n",
    "    dt = np.sort(d2)\n",
    "    for i in range(len(dt)):\n",
    "        mindD.append(min(abs(dt[i]-dt[(i-1)%len(dt)]),abs(dt[(i+1)%len(dt)]-dt[i])))"
   ]
  },
  {
   "cell_type": "code",
   "execution_count": null,
   "id": "fb518bf4",
   "metadata": {
    "ExecuteTime": {
     "end_time": "2023-10-16T10:32:46.377699Z",
     "start_time": "2023-10-16T10:32:46.273261Z"
    }
   },
   "outputs": [],
   "source": [
    "plt.hist(mind,alpha=0.5,width=0.6,range=(0,max(mindD)),bins=20,color=C[ColorDict['Control']],label='Control, \\n 7 spine')\n",
    "plt.hist(mindD,alpha=0.5,width=0.6,range=(0,max(mindD)),bins=20,color=C[ColorDict['Calcineurin']],label='Distr.')\n",
    "\n",
    "plt.axvline(np.mean(mind),color=C[ColorDict['Control']],lw=5)\n",
    "plt.axvline(np.mean(mindD),color=C[ColorDict['Calcineurin']],lw=5)\n",
    "ax = plt.gca()\n",
    "leg = ax.legend(framealpha=0.5,fontsize=32,loc=1,bbox_to_anchor=[1.15,1])\n",
    "leg.get_frame().set_linewidth(0.0)\n",
    "ax.spines[\"right\"].set_visible(False)\n",
    "ax.spines[\"top\"].set_visible(False)"
   ]
  },
  {
   "cell_type": "markdown",
   "id": "6bb88931",
   "metadata": {},
   "source": [
    "## h"
   ]
  },
  {
   "cell_type": "code",
   "execution_count": null,
   "id": "19e39cee",
   "metadata": {
    "ExecuteTime": {
     "end_time": "2023-10-16T10:32:46.494808Z",
     "start_time": "2023-10-16T10:32:46.379042Z"
    }
   },
   "outputs": [],
   "source": [
    "fig,ax = plt.subplots()\n",
    "_,caps,_ = ax.errorbar([-15,-10,-5,2,10,20,30,40],mt.mean(axis=1),stats.sem(mt,axis=1),\n",
    "         capsize=5,lw=3,marker='_',ecolor=C[ColorDict['Control']],\n",
    "         c=C[ColorDict['Control']],elinewidth=2,ms=10,mew=3,capthick=1,label='Single spine'\n",
    "        )   \n",
    "_,caps,_ = ax.errorbar([-15,-10,-5,2,10,20,30,40],mtotD.mean(axis=1),stats.sem(mtot,axis=1),\n",
    "         capsize=5,lw=3,marker='_',ecolor=C[ColorDict['Calcineurin']],\n",
    "         c=C[ColorDict['Calcineurin']],elinewidth=2,ms=10,mew=3,capthick=1,label='Distr. spine'\n",
    "        )   \n",
    "\n",
    "handles, labels = ax.get_legend_handles_labels()\n",
    "# remove the errorbars\n",
    "handles = [h[0] for h in handles]\n",
    "# use them in the legend\n",
    "leg = ax.legend(handles, labels, framealpha=0.5,fontsize=28,loc=1,bbox_to_anchor=(1.1,1.))\n",
    "leg.get_frame().set_linewidth(0.0)\n",
    "\n",
    "ax.spines[\"right\"].set_visible(False)\n",
    "ax.spines[\"top\"].set_visible(False)\n",
    "ax.set_xticks([-15,-10,-5,2,10,20,30,40],[-15,-10,-5,2,10,20,30,40],rotation=45)"
   ]
  },
  {
   "cell_type": "markdown",
   "id": "6854067e",
   "metadata": {},
   "source": [
    "## i"
   ]
  },
  {
   "cell_type": "code",
   "execution_count": null,
   "id": "eec93e6d",
   "metadata": {
    "ExecuteTime": {
     "end_time": "2023-10-16T10:32:49.050522Z",
     "start_time": "2023-10-16T10:32:46.497028Z"
    }
   },
   "outputs": [],
   "source": [
    "params = np.load(DatDir+'ModelFit/ControlFit3.npy')\n",
    "a1 = params[0]\n",
    "a2 = params[1]\n",
    "\n",
    "b1 = params[2]\n",
    "b2 =  params[3]\n",
    "rho = params[4]*3\n",
    "gamma = params[5]\n",
    "\n",
    "nu = params[6]\n",
    "phi = params[7]\n",
    "\n",
    "lam = params[8]\n",
    "mu  = params[9] \n",
    "Cs  = params[10]\n",
    "Cd  = params[11]/2\n",
    "\n",
    "zeta1 = params[12]\n",
    "zeta2 = params[13]\n",
    "\n",
    "tMax  = 40\n",
    "xMax  = 2\n",
    "\n",
    "times = [2,10,20,30,40]\n",
    "stims_one   = np.array([[0],[0]])\n",
    "\n",
    "SpineWidth = 1000\n",
    "SM1 = SpatialModel([a1,a2],[b1,b2,rho],gamma,[zeta1,zeta2],[nu,phi],[lam,mu,Cs,Cd],tMax,xMax,stims_one)\n",
    "SM1.Simulate()\n",
    "\n",
    "params = np.load(DatDir+'ModelFit/ControlDistr.npy')\n",
    "\n",
    "a1 = params[0]\n",
    "a2 = params[1]\n",
    "\n",
    "b1 = params[2]\n",
    "b2 =  params[3]\n",
    "rho = params[4]\n",
    "gamma = params[5]\n",
    "\n",
    "nu = params[6]\n",
    "phi = params[7]\n",
    "\n",
    "lam = params[8]\n",
    "mu  = params[9] \n",
    "Cs  = params[10]\n",
    "Cd  = params[11]\n",
    "\n",
    "zeta1 = params[12]\n",
    "zeta2 = params[13]\n",
    "\n",
    "tMax  = 40\n",
    "xMax  = 2\n",
    "\n",
    "times = [2,10,20,30,40]\n",
    "stims_seven   = np.array([[-1.89,-1.26,-0.63,0,0.63,1.26,1.89],[0,0,0,0,0,0,0]])\n",
    "\n",
    "SpineWidth = 1000\n",
    "SM2 = SpatialModel([a1,a2],[b1,b2,rho],gamma,[zeta1,zeta2],[nu,phi],[lam,mu,Cs,Cd],tMax,xMax,stims_one)\n",
    "SM2.Simulate()\n",
    "\n"
   ]
  },
  {
   "cell_type": "code",
   "execution_count": null,
   "id": "d1ab1990",
   "metadata": {
    "ExecuteTime": {
     "end_time": "2023-10-16T10:32:49.205748Z",
     "start_time": "2023-10-16T10:32:49.052936Z"
    }
   },
   "outputs": [],
   "source": [
    "plt.plot(SM2.tvec,SM2.S_tot[:,stimlocs_three[1]],c=C[ColorDict['Control']],lw=5,label=r'1 spine pred.')\n",
    "plt.plot(SM2.tvec,SM1.S_tot[:,stimlocs_three[1]],c=C[ColorDict['Calcineurin']],lw=5,label=r'Distr. pred.',ls='--')\n",
    "\n",
    "ax = plt.gca()\n",
    "_,caps,_ = ax.errorbar([2,10,20,30,40],mtotD[3:].mean(axis=1),stats.sem(mtotD[3:],axis=1),\n",
    "             capsize=5,ls='none',marker='_',ecolor='k',\n",
    "             c='k',elinewidth=2,ms=10,mew=3,capthick=1,label='Avg. of expt. stim.\\n spine, Distr.'\n",
    "            )   \n",
    "for cap in caps:\n",
    "    cap.set_markeredgewidth(1)\n",
    "leg = ax.legend(framealpha=0.5,fontsize=28,loc=1,bbox_to_anchor=(1.05,1))\n",
    "leg.get_frame().set_linewidth(0.0)\n",
    "ax.spines[\"right\"].set_visible(False)\n",
    "ax.spines[\"top\"].set_visible(False)\n",
    "ax.set_xticks([2,10,20,30,40])"
   ]
  },
  {
   "cell_type": "markdown",
   "id": "4341d7f1",
   "metadata": {},
   "source": [
    "# Figure 5"
   ]
  },
  {
   "cell_type": "code",
   "execution_count": null,
   "id": "b4c7c830",
   "metadata": {
    "ExecuteTime": {
     "end_time": "2023-10-16T10:32:49.226868Z",
     "start_time": "2023-10-16T10:32:49.206933Z"
    }
   },
   "outputs": [],
   "source": [
    "SpineDir = DatDir+'15Spine/'\n",
    "m,d = Load15Spine(SpineDir)\n",
    "mtot = np.hstack(m)\n",
    "mtot15 = np.copy(mtot)\n",
    "SpineDir = DatDir+'15SpineS/'\n",
    "ms,ds = Load15Spine(SpineDir,False)\n",
    "mtots = np.hstack(m)"
   ]
  },
  {
   "cell_type": "code",
   "execution_count": null,
   "id": "62f32f40",
   "metadata": {
    "ExecuteTime": {
     "end_time": "2023-10-16T10:32:50.575385Z",
     "start_time": "2023-10-16T10:32:49.228054Z"
    }
   },
   "outputs": [],
   "source": [
    "params = np.load(DatDir+'ModelFit/ControlFit3.npy')\n",
    "a1 = params[0]\n",
    "a2 = params[1]\n",
    "\n",
    "b1 = params[2]\n",
    "b2 =  params[3]\n",
    "rho = params[4]/4\n",
    "gamma = params[5]\n",
    "\n",
    "nu = params[6]\n",
    "phi = params[7]\n",
    "\n",
    "lam = params[8]\n",
    "mu  = params[9] \n",
    "Cs  = params[10]\n",
    "Cd  = params[11]/15\n",
    "\n",
    "zeta1 = params[12]\n",
    "zeta2 = params[13]\n",
    "\n",
    "tMax  = 40\n",
    "xMax  = 2\n",
    "\n",
    "times = [2,10,20,30,40]\n",
    "stims_one   = np.array([[0],[0]])\n",
    "stims_seven   = np.array([[-0.63,-0.42,-0.21,0,0.21,0.42,0.63],[0,0,0,0,0,0,0]])\n",
    "stims_fifteen = np.array([[-1.68,-1.44,-1.2,-0.96,-0.72,-0.48,-0.24,0,0.24,0.48,0.72,0.96,1.2,1.44,1.68],\n",
    "                        [0]*15])\n",
    "    \n",
    "SpineWidth = 1000\n",
    "stimlocs_seven = [np.argwhere(xvec == s)[0,0] for s in stims_seven[0]]\n",
    "stimlocs_15 = [np.argwhere(xvec == s)[0,0] for s in stims_fifteen[0]]\n",
    "\n",
    "\n",
    "SM15 = SpatialModel([a1,a2],[b1,b2,rho],gamma,[zeta1,zeta2],[nu,phi],[lam,mu,Cs,Cd],tMax,xMax,stims_fifteen)\n",
    "SM15.Simulate()"
   ]
  },
  {
   "cell_type": "markdown",
   "id": "daf44e2b",
   "metadata": {},
   "source": [
    "## d"
   ]
  },
  {
   "cell_type": "code",
   "execution_count": null,
   "id": "152fa7b3",
   "metadata": {
    "ExecuteTime": {
     "end_time": "2023-10-16T10:32:50.737741Z",
     "start_time": "2023-10-16T10:32:50.577861Z"
    }
   },
   "outputs": [],
   "source": [
    "plt.plot(SM15.tvec,np.mean([SM15.S_tot[:,s] for s in stimlocs_15],axis=0),lw=5\n",
    "        ,label='Model pred.')\n",
    "ax = plt.gca()\n",
    "_,caps,_ = ax.errorbar([2,10,20,30,40],mtot[3:].mean(axis=1),stats.sem(mtot[3:],axis=1),\n",
    "             capsize=5,ls='none',marker='_',ecolor='k',\n",
    "             c='k',elinewidth=2,ms=10,mew=3,capthick=1,label='Expt. spines',alpha=0.5\n",
    "            )   \n",
    "for cap in caps:\n",
    "    cap.set_markeredgewidth(1)\n",
    "    \n",
    "    ax.spines[\"right\"].set_visible(False)\n",
    "ax.spines[\"top\"].set_visible(False)\n",
    "ax.set_xticks([2,10,20,30,40])\n",
    "leg = ax.legend(framealpha=0.5,fontsize=32)\n",
    "leg.get_frame().set_linewidth(0.0)"
   ]
  },
  {
   "cell_type": "markdown",
   "id": "4ed8d4fe",
   "metadata": {},
   "source": [
    "## e"
   ]
  },
  {
   "cell_type": "code",
   "execution_count": null,
   "id": "1a870261",
   "metadata": {
    "ExecuteTime": {
     "end_time": "2023-10-16T10:32:50.836803Z",
     "start_time": "2023-10-16T10:32:50.738932Z"
    }
   },
   "outputs": [],
   "source": [
    "plt.bar([0],np.mean(mtot[3]),yerr=stats.sem(mtot[3]),width=0.25,color=C[ColorDict['Control']])\n",
    "plt.bar([0.3],np.mean(mtot[-1]),yerr=stats.sem(mtot[-1]),width=0.25,color=C[ColorDict['Control']])\n",
    "\n",
    "plt.bar([1],np.mean(mtotS[3]),yerr=stats.sem(mtotS[3]),width=0.25,color=C[ColorDict['Sham']])\n",
    "plt.bar([1.3],np.mean(mtotS[-1]),yerr=stats.sem(mtotS[-1]),width=0.25,color=C[ColorDict['Sham']])\n",
    "\n",
    "\n",
    "plt.plot([-0.02,0.98],[2.2,2.2],c='k')\n",
    "print(stats.ttest_ind(mtot[3],mtotS[3]))\n",
    "plt.plot(0.48,2.29,marker=(6, 2, 0),c='k',ms=15)\n",
    "\n",
    "plt.plot([0.27,1.27],[1.8,1.8],c='k')\n",
    "print(stats.ttest_ind(mtot[-1],mtotS[-1]))\n",
    "plt.plot(0.77,1.89,marker=(6, 2, 0),c='k',ms=15)\n",
    "\n",
    "plt.text(-0.06,0.2,'2 min',rotation=90,fontsize=28,color='w')\n",
    "plt.text(0.3-0.06,0.2,'40 min',rotation=90,fontsize=28,color='w')\n",
    "\n",
    "plt.text(1-0.06,0.2,'2 min',rotation=90,fontsize=28,color='w')\n",
    "plt.text(1.3-0.06,0.2,'40 min',rotation=90,fontsize=28,color='w')\n",
    "plt.xticks([0.15,1.15],['Stimulated','Sham'],fontsize=32)\n",
    "ax = plt.gca()\n",
    "ax.spines[\"right\"].set_visible(False)\n",
    "ax.spines[\"top\"].set_visible(False)\n"
   ]
  },
  {
   "cell_type": "code",
   "execution_count": null,
   "id": "5f8820f3",
   "metadata": {
    "ExecuteTime": {
     "end_time": "2023-10-16T10:32:51.022536Z",
     "start_time": "2023-10-16T10:32:50.841748Z"
    }
   },
   "outputs": [],
   "source": [
    "C1 = SM1.zeta1*np.sum(SM1.C_tot[:,200])*SM1.dt\n",
    "Pact1  = SM1.P_tot[:,200]*SM1.F(SM1.S_tot[:,200])\n",
    "Pp1 = SM1.zeta2*np.sum(Pact1[Pact1>0])*SM1.dt\n",
    "Pm1 = SM1.zeta2*np.sum(Pact1[Pact1<0])*SM1.dt\n",
    "\n",
    "C3 = SM3.zeta1*np.sum([SM3.C_tot[:,s] for s in stimlocs_three],axis=1).mean()*SM1.dt\n",
    "Pact3  = np.mean([SM3.P_tot[:,s]*SM3.F(SM3.S_tot[:,s]) for s in stimlocs_three],axis=0)\n",
    "Pp3 = SM3.zeta2*np.sum(Pact3[Pact3>0])*SM1.dt\n",
    "Pm3 = SM3.zeta2*np.sum(Pact3[Pact3<0])*SM1.dt\n",
    "\n",
    "C7 = SM7.zeta1*np.sum([SM7.C_tot[:,s] for s in stimlocs_seven],axis=1).mean()*SM1.dt\n",
    "Pact7  = np.mean([SM7.P_tot[:,s]*SM7.F(SM7.S_tot[:,s]) for s in stimlocs_seven],axis=0)\n",
    "Pp7 = SM7.zeta2*np.sum(Pact7[Pact7>0])*SM1.dt\n",
    "Pm7 = SM7.zeta2*np.sum(Pact7[Pact7<0])*SM1.dt\n",
    "\n",
    "C15 = SM15.zeta1*np.sum([SM15.C_tot[:,s] for s in stimlocs_15],axis=1).mean()*SM1.dt\n",
    "Pact15  = np.mean([SM15.P_tot[:,s]*SM15.F(SM15.S_tot[:,s]) for s in stimlocs_15],axis=0)\n",
    "Pp15 = SM15.zeta2*np.sum(Pact15[Pact15>0])*SM1.dt\n",
    "Pm15 = SM15.zeta2*np.sum(Pact15[Pact15<0])*SM1.dt"
   ]
  },
  {
   "cell_type": "markdown",
   "id": "ab080eb7",
   "metadata": {},
   "source": [
    "## f"
   ]
  },
  {
   "cell_type": "code",
   "execution_count": null,
   "id": "4881d026",
   "metadata": {
    "ExecuteTime": {
     "end_time": "2023-10-16T10:32:51.153421Z",
     "start_time": "2023-10-16T10:32:51.024853Z"
    }
   },
   "outputs": [],
   "source": [
    "p1 =plt.bar([1,2,3,4],[Pp1+C1,Pp3+C3,\n",
    "                   Pp7+C7,Pp15+C15]\n",
    "       ,label = r'$C_d$',color=C[ColorDict['Control']])\n",
    "p2 =plt.bar([1,2,3,4],[Pp1+C1-SM3.C_s,Pp3+C3-SM3.C_s,\n",
    "                   Pp7+C7-SM7.C_s,Pp15+C15-SM15.C_s]\n",
    "       ,label = r'$C_d$',color=C[ColorDict['Control']-1])\n",
    "p3 =plt.bar([1,2,3,4],[Pp1*100,Pp3*100,\n",
    "                   Pp7*100,Pp15*100]\n",
    "       ,label = r'I$C_d$',color='r')\n",
    "\n",
    "p4 =plt.bar([1,2,3,4],[Pm1,Pm3,\n",
    "                   Pm7,Pm15]\n",
    "       ,label = r'Init. $C_d$',color=C[ColorDict['CHX']-1])\n",
    "plt.axhline(0,ls='--',lw=3,c='k',alpha=0.5)\n",
    "plt.yticks([-0.75,2.5],['Shrinking','Growing'],rotation=90)\n",
    "plt.tick_params(\n",
    "    axis='y',          # changes apply to the x-axis\n",
    "    which='both',      # both major and minor ticks are affected\n",
    "    left=False,        # ticks along the bottom edge are off\n",
    "    top=False,         # ticks along the top edge are off\n",
    "    labelbottom=False) \n",
    "plt.xticks([1,2,3,4],['1 Spine', '3 Spine','7 Spine','15 Spine'],rotation=25)\n",
    "ax = plt.gca()\n",
    "l1 = plt.legend([p1,p2], [r\"$C_s$\",r'$C_d$'], loc=1,framealpha=0.5,fontsize=24)\n",
    "l2 = plt.legend([p3,p4], [r'$P+$',r'$P-$'], loc=4,framealpha=0.5,fontsize=24,\n",
    "                bbox_to_anchor=(1.05,0))\n",
    "ax.add_artist(l1)\n",
    "l1.get_frame().set_linewidth(0.0)\n",
    "l2.get_frame().set_linewidth(0.0)\n",
    "ax.spines[\"right\"].set_visible(False)\n",
    "ax.spines[\"top\"].set_visible(False)"
   ]
  },
  {
   "cell_type": "markdown",
   "id": "0cc68c5a",
   "metadata": {
    "ExecuteTime": {
     "end_time": "2023-10-13T15:56:08.316066Z",
     "start_time": "2023-10-13T15:56:08.309027Z"
    }
   },
   "source": [
    "## g"
   ]
  },
  {
   "cell_type": "code",
   "execution_count": null,
   "id": "2436a77a",
   "metadata": {
    "ExecuteTime": {
     "end_time": "2023-10-16T10:32:51.251193Z",
     "start_time": "2023-10-16T10:32:51.154589Z"
    }
   },
   "outputs": [],
   "source": [
    "plt.bar([1],np.mean(mt1[3]),yerr=stats.sem(mt1[3]),color=C[ColorDict['Control']],width=1.5)\n",
    "plt.bar([3],np.mean(mtot3[3]),yerr=stats.sem(mtot3[3]),color=C[ColorDict['Control']],width=1.5)\n",
    "plt.bar([7],np.mean(mt7[:,3]),yerr=stats.sem(mt7[3]),color=C[ColorDict['Control']],width=1.5)\n",
    "plt.bar([15],np.mean(mtot15[3]),yerr=stats.sem(mtot15[3]),color=C[ColorDict['Control']],width=1.5)\n",
    "ax = plt.gca()\n",
    "ax.spines[\"right\"].set_visible(False)\n",
    "ax.spines[\"top\"].set_visible(False)\n",
    "ax.plot([3,7],[3.2,3.2],c='k')\n",
    "ax.plot([7,15],[2.4,2.4],c='k')\n",
    "ax.plot(5,3.5,marker=(6, 2, 0),c='k',ms=10)\n",
    "ax.plot(11,2.5,marker=(6, 2, 0),c='k',ms=10)\n",
    "ax.set_xticks([1,3,7,15],[1,3,7,15],fontsize=32)\n",
    "plt.plot(np.linspace(3,15,100),func(np.linspace(3,15,100),4.03624379, 1.3170679),lw=3,c='r',\n",
    "         label=r'1/$N$ fit',ls='--')\n",
    "leg = ax.legend(framealpha=0.0,fontsize=38,loc=1,bbox_to_anchor=(1.2,1.1))\n",
    "leg.get_frame().set_linewidth(0.0)"
   ]
  },
  {
   "cell_type": "markdown",
   "id": "a5cd2117",
   "metadata": {},
   "source": [
    "## h"
   ]
  },
  {
   "cell_type": "code",
   "execution_count": null,
   "id": "bbd8dc88",
   "metadata": {
    "ExecuteTime": {
     "end_time": "2023-10-16T10:32:51.336996Z",
     "start_time": "2023-10-16T10:32:51.252705Z"
    }
   },
   "outputs": [],
   "source": [
    "plt.bar([1],np.mean(mt1[3]),yerr=stats.sem(mt1[3]),color=C[ColorDict['Control']],width=1.5)\n",
    "plt.bar([3],np.mean(mtot3[3])*3,yerr=stats.sem(mtot3[3])*3,color=C[ColorDict['Control']],width=1.5)\n",
    "plt.bar([7],np.mean(mtot7[3])*7,yerr=stats.sem(mtot7[3])*7,color=C[ColorDict['Control']],width=1.5)\n",
    "plt.bar([15],np.mean(mtot15[3])*15,yerr=stats.sem(mtot15[3])*15,color=C[ColorDict['Control']],width=1.5)\n",
    "plt.plot([1,3,7,15],np.array([1,3,7,15])*1.45957126+2.2341839549489695,lw=3,c='r',ls='--',label='Linear fit')\n",
    "plt.xticks([1,3,7,15])\n",
    "ax = plt.gca()\n",
    "ax.spines[\"right\"].set_visible(False)\n",
    "ax.spines[\"top\"].set_visible(False)\n",
    "leg = ax.legend(framealpha=0.0,fontsize=36,loc=4,bbox_to_anchor=(0.8,0.7))\n",
    "leg.get_frame().set_linewidth(0.0)"
   ]
  },
  {
   "cell_type": "markdown",
   "id": "e60f17ec",
   "metadata": {},
   "source": [
    "## i"
   ]
  },
  {
   "cell_type": "code",
   "execution_count": null,
   "id": "378326e6",
   "metadata": {
    "ExecuteTime": {
     "end_time": "2023-10-16T10:32:51.423338Z",
     "start_time": "2023-10-16T10:32:51.339016Z"
    }
   },
   "outputs": [],
   "source": [
    "plt.bar([1],np.mean(mt1[-1]),yerr=stats.sem(mt1[-1]),color=C[ColorDict['Control']],width=1.5)\n",
    "plt.bar([3],np.mean(mtot3[-1]),yerr=stats.sem(mtot3[-1]),color=C[ColorDict['Control']],width=1.5)\n",
    "plt.bar([7],np.mean(mt7[:,-1]),yerr=stats.sem(mt7[:,-1]),color=C[ColorDict['Control']],width=1.5)\n",
    "plt.bar([15],np.mean(mtot15[-1]),yerr=stats.sem(mtot15[-1]),color=C[ColorDict['Control']],width=1.5)\n",
    "ax = plt.gca()\n",
    "ax.spines[\"right\"].set_visible(False)\n",
    "ax.spines[\"top\"].set_visible(False)\n",
    "ax.set_xticks([1,3,7,15],[1,3,7,15])\n",
    "plt.plot([1,3,7,15],np.array([1,3,7,15])*0.019236+1.1372418314327157,lw=3,c='r',ls='--',\n",
    "        label='Linear fit')\n",
    "leg = ax.legend(framealpha=0.5,fontsize=36,loc=4,bbox_to_anchor=(0.8,0.8))\n",
    "leg.get_frame().set_linewidth(0.0)"
   ]
  },
  {
   "cell_type": "markdown",
   "id": "d2af1003",
   "metadata": {},
   "source": [
    "# Supplemental figure 1"
   ]
  },
  {
   "cell_type": "code",
   "execution_count": null,
   "id": "de639518",
   "metadata": {
    "ExecuteTime": {
     "end_time": "2023-10-16T10:32:52.594406Z",
     "start_time": "2023-10-16T10:32:51.424268Z"
    }
   },
   "outputs": [],
   "source": [
    "params =  [1.63241027e-03, 1.05057645e+00, 4.79773558e-03,1.20091169e+00,\n",
    "     1.19406065e-01, 4.49843716e-02 , 0.2 ,2.01143310e+00,\n",
    "     10, 1.00000000e+00,0.28093303e+00, 2.07116490e+00,\n",
    "     3.01751859e+00, 7.94972648e+00] #3.3 works with rho (one) and C (seven)\n",
    "\n",
    "a1 = params[0]\n",
    "a2 = params[1]\n",
    "\n",
    "b1 = params[2]\n",
    "b2 =  params[3]\n",
    "rho = params[4]\n",
    "gamma = params[5]\n",
    "\n",
    "nu = params[6]\n",
    "phi = params[7]\n",
    "\n",
    "lam = params[8]\n",
    "mu  = params[9] \n",
    "Cs  = params[10]\n",
    "Cd  = params[11]\n",
    "\n",
    "zeta1 = params[12]\n",
    "zeta2 = params[13]\n",
    "\n",
    "tMax  = 40\n",
    "xMax  = 2\n",
    "\n",
    "times = [2,10,20,30,40]\n",
    "stims_three = np.array([[-0.19,0,0.19],[0,0,0]])\n",
    "\n",
    "SpineWidth = 1000\n",
    "SM32 = SpatialModel([a1,a2],[b1,b2,rho],gamma,[zeta1,zeta2],[nu,phi],[lam,mu,Cs,Cd],tMax,xMax,stims_three)\n",
    "SM32.Simulate()\n",
    "xvec = SM32.x.round(2)\n",
    "stimlocs_three = [np.argwhere(xvec == s)[0,0] for s in stims_three[0]]\n"
   ]
  },
  {
   "cell_type": "markdown",
   "id": "bfe4cc50",
   "metadata": {},
   "source": [
    "## a"
   ]
  },
  {
   "cell_type": "code",
   "execution_count": null,
   "id": "c2893e99",
   "metadata": {
    "ExecuteTime": {
     "end_time": "2023-10-16T10:32:52.739906Z",
     "start_time": "2023-10-16T10:32:52.595431Z"
    }
   },
   "outputs": [],
   "source": [
    "xvec = np.linspace(-14,14,400)\n",
    "plt.plot(xvec,SM3.C_tot[0,:],lw=3,c='k',label='Init. C')\n",
    "\n",
    "plt.axvline(xvec[200],lw=5,label='Stimulated spine')\n",
    "plt.axvline(xvec[210],lw=5,c=C[ColorDict['Control']-1],label='Inside cluster')\n",
    "plt.axvline(xvec[230],lw=5,c=C[ColorDict['CHX']],label='Outside cluster')\n",
    "plt.axvline(xvec[250],lw=5,c=C[ColorDict['CHX']-1],label='Away from cluster')\n",
    "plt.xlim([-5,5])\n",
    "plt.plot([xvec[175],xvec[186]],[0.1,0.1],c='gray',lw=3)\n",
    "plt.text(xvec[148],0.06,r'\\bf{1}$\\mathbf{\\mu m}$',color='gray',fontsize=32)\n",
    "ax = plt.gca()\n",
    "ax.spines[\"right\"].set_visible(False)\n",
    "ax.spines[\"top\"].set_visible(False)"
   ]
  },
  {
   "cell_type": "markdown",
   "id": "797664c6",
   "metadata": {},
   "source": [
    "## b"
   ]
  },
  {
   "cell_type": "code",
   "execution_count": null,
   "id": "eec183c5",
   "metadata": {
    "ExecuteTime": {
     "end_time": "2023-10-16T10:32:52.874507Z",
     "start_time": "2023-10-16T10:32:52.741006Z"
    }
   },
   "outputs": [],
   "source": [
    "plt.plot(SM3.tvec,SM3.S_tot[:,200],c=C[ColorDict['Control']],lw=3,label='Stimulated spine')\n",
    "plt.plot(SM3.tvec,SM3.S_tot[:,190],c=C[ColorDict['Control']-1],lw=3,label='Inside cluster')\n",
    "plt.plot(SM3.tvec,SM3.S_tot[:,170],c=C[ColorDict['CHX']],lw=3,label='Outside cluster')\n",
    "plt.plot(SM3.tvec,SM3.S_tot[:,150],c=C[ColorDict['CHX']-1],lw=3,label='Away from cluster')\n",
    "ax = plt.gca()\n",
    "leg = ax.legend(framealpha=0.5,fontsize=28,loc=1,bbox_to_anchor=(1.1,1.0))\n",
    "leg.get_frame().set_linewidth(0.0)\n",
    "ax.spines[\"right\"].set_visible(False)\n",
    "ax.spines[\"top\"].set_visible(False)\n",
    "ax.set_yticks([1,2],[1,2])"
   ]
  },
  {
   "cell_type": "markdown",
   "id": "50bcc687",
   "metadata": {},
   "source": [
    "## c"
   ]
  },
  {
   "cell_type": "code",
   "execution_count": null,
   "id": "6dee70f2",
   "metadata": {
    "ExecuteTime": {
     "end_time": "2023-10-16T10:32:52.953725Z",
     "start_time": "2023-10-16T10:32:52.875649Z"
    }
   },
   "outputs": [],
   "source": [
    "plt.plot(SM3.tvec,SM3.S_tot[:,200],c=C[ColorDict['Control']],lw=3)\n",
    "plt.plot(SM3.tvec,SM32.S_tot[:,190],c=C[ColorDict['Control']-1],lw=3)\n",
    "plt.plot(SM3.tvec,SM32.S_tot[:,170],c=C[ColorDict['CHX']],lw=3)\n",
    "plt.plot(SM3.tvec,SM32.S_tot[:,150],c=C[ColorDict['CHX']-1],lw=3)\n",
    "plt.text(28,2.5,'Heterosynaptic \\n threshold lower',ha='center', va='center',fontsize=32)\n",
    "ax = plt.gca()\n",
    "ax.spines[\"right\"].set_visible(False)\n",
    "ax.spines[\"top\"].set_visible(False)"
   ]
  },
  {
   "cell_type": "markdown",
   "id": "641c0ce5",
   "metadata": {
    "ExecuteTime": {
     "end_time": "2023-10-13T16:49:51.676437Z",
     "start_time": "2023-10-13T16:49:51.667928Z"
    }
   },
   "source": [
    "## d"
   ]
  },
  {
   "cell_type": "code",
   "execution_count": null,
   "id": "31ae0357",
   "metadata": {
    "ExecuteTime": {
     "end_time": "2023-10-16T10:32:53.080966Z",
     "start_time": "2023-10-16T10:32:52.954787Z"
    }
   },
   "outputs": [],
   "source": [
    "plt.plot(SM3.tvec,SM3.C_tot[:,200],c=C[ColorDict['Control']],lw=3,label='Stimulated spine')\n",
    "plt.plot(SM3.tvec,SM3.C_tot[:,190],c=C[ColorDict['Control']-1],lw=3,label='Inside cluster')\n",
    "plt.plot(SM3.tvec,SM3.C_tot[:,170],c=C[ColorDict['CHX']],lw=3,label='Outside cluster')\n",
    "plt.plot(SM3.tvec,SM3.C_tot[:,150],c=C[ColorDict['CHX']-1],lw=3,label='Away from cluster')\n",
    "ax = plt.gca()\n",
    "leg = ax.legend(framealpha=0.5,fontsize=32,loc=1,bbox_to_anchor=(1.1,1.0))\n",
    "leg.get_frame().set_linewidth(0.0)\n",
    "ax.spines[\"right\"].set_visible(False)\n",
    "ax.spines[\"top\"].set_visible(False)"
   ]
  },
  {
   "cell_type": "markdown",
   "id": "5b26d399",
   "metadata": {},
   "source": [
    "## e"
   ]
  },
  {
   "cell_type": "code",
   "execution_count": null,
   "id": "9f579fa9",
   "metadata": {
    "ExecuteTime": {
     "end_time": "2023-10-16T10:32:53.187884Z",
     "start_time": "2023-10-16T10:32:53.082616Z"
    }
   },
   "outputs": [],
   "source": [
    "plt.plot(SM3.tvec,SM3.P_tot[:,200]*SM3.F(SM3.S_tot[:,200]),c=C[ColorDict['Control']],lw=3)\n",
    "plt.plot(SM3.tvec,SM3.P_tot[:,190]*SM3.F(SM3.S_tot[:,190]),c=C[ColorDict['Control']-1],lw=3)\n",
    "plt.plot(SM3.tvec,SM3.P_tot[:,170]*SM3.F(SM3.S_tot[:,170]),c=C[ColorDict['CHX']],lw=3)\n",
    "plt.plot(SM3.tvec,SM3.P_tot[:,150]*SM3.F(SM3.S_tot[:,150]),c=C[ColorDict['CHX']-1],lw=3)\n",
    "plt.axhline(0,lw=3,c='k',ls='--')\n",
    "ax = plt.gca()\n",
    "ax.spines[\"right\"].set_visible(False)\n",
    "ax.spines[\"top\"].set_visible(False)\n",
    "ax.set_yticks([0,-0.02,-0.04],[0,-0.02,-0.04],rotation=90,va='center')\n",
    "plt.text(28,-0.02,'Unchanged \\n parameters',ha='center', va='center',fontsize=32)"
   ]
  },
  {
   "cell_type": "markdown",
   "id": "287cd173",
   "metadata": {},
   "source": [
    "## f"
   ]
  },
  {
   "cell_type": "code",
   "execution_count": null,
   "id": "80ab4849",
   "metadata": {
    "ExecuteTime": {
     "end_time": "2023-10-16T10:32:53.273120Z",
     "start_time": "2023-10-16T10:32:53.188970Z"
    }
   },
   "outputs": [],
   "source": [
    "plt.plot(SM3.tvec,SM32.P_tot[:,200]*SM32.F(SM32.S_tot[:,200]),c=C[ColorDict['Control']],lw=3)\n",
    "plt.plot(SM3.tvec,SM32.P_tot[:,190]*SM32.F(SM32.S_tot[:,190]),c=C[ColorDict['Control']-1],lw=3)\n",
    "plt.plot(SM3.tvec,SM32.P_tot[:,170]*SM32.F(SM32.S_tot[:,170]),c=C[ColorDict['CHX']],lw=3)\n",
    "plt.plot(SM3.tvec,SM32.P_tot[:,150]*SM32.F(SM32.S_tot[:,150]),c=C[ColorDict['CHX']-1],lw=3)\n",
    "plt.text(28,-0.03,'Heterosynaptic \\n threshold lower',ha='center', va='center',fontsize=32)\n",
    "plt.axhline(0,lw=3,c='k',ls='--')\n",
    "ax = plt.gca()\n",
    "ax.spines[\"right\"].set_visible(False)\n",
    "ax.spines[\"top\"].set_visible(False)\n",
    "ax.set_yticks([0,-0.02,-0.04],[0,-0.02,-0.04],rotation=90,va='center')"
   ]
  }
 ],
 "metadata": {
  "hide_input": false,
  "kernelspec": {
   "display_name": "Python 3 (ipykernel)",
   "language": "python",
   "name": "python3"
  },
  "language_info": {
   "codemirror_mode": {
    "name": "ipython",
    "version": 3
   },
   "file_extension": ".py",
   "mimetype": "text/x-python",
   "name": "python",
   "nbconvert_exporter": "python",
   "pygments_lexer": "ipython3",
   "version": "3.9.16"
  },
  "toc": {
   "base_numbering": 1,
   "nav_menu": {},
   "number_sections": true,
   "sideBar": true,
   "skip_h1_title": false,
   "title_cell": "Table of Contents",
   "title_sidebar": "Contents",
   "toc_cell": false,
   "toc_position": {
    "height": "calc(100% - 180px)",
    "left": "10px",
    "top": "150px",
    "width": "338.823517px"
   },
   "toc_section_display": true,
   "toc_window_display": true
  }
 },
 "nbformat": 4,
 "nbformat_minor": 5
}
